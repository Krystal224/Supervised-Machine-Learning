{
 "cells": [
  {
   "cell_type": "code",
   "execution_count": 1,
   "metadata": {
    "collapsed": true
   },
   "outputs": [],
   "source": [
    "import scipy.io as sio\n",
    "import matplotlib.pyplot as plt\n",
    "import numpy as np\n",
    "import pandas as pd\n",
    "import seaborn as sns\n",
    "from sklearn import tree\n",
    "from sklearn.model_selection import GridSearchCV\n",
    "from sklearn import svm\n",
    "from sklearn.svm import SVC\n",
    "from sklearn.ensemble import RandomForestClassifier\n",
    "from sklearn.neighbors import KNeighborsClassifier\n",
    "from sklearn.ensemble import AdaBoostClassifier\n",
    "from sklearn.linear_model import LogisticRegression\n",
    "\n",
    "from mpl_toolkits.mplot3d import Axes3D\n",
    "%config InlineBackend.figure_format = 'retina'\n",
    "\n"
   ]
  },
  {
   "cell_type": "markdown",
   "metadata": {},
   "source": [
    "# Part I: Import Three Datasets"
   ]
  },
  {
   "cell_type": "code",
   "execution_count": 2,
   "metadata": {},
   "outputs": [
    {
     "name": "stdout",
     "output_type": "stream",
     "text": [
      "(1599, 12)\n"
     ]
    },
    {
     "name": "stderr",
     "output_type": "stream",
     "text": [
      "/Users/ziwenzeng/anaconda3/lib/python3.6/site-packages/pandas/core/indexing.py:179: SettingWithCopyWarning: \n",
      "A value is trying to be set on a copy of a slice from a DataFrame\n",
      "\n",
      "See the caveats in the documentation: http://pandas.pydata.org/pandas-docs/stable/indexing.html#indexing-view-versus-copy\n",
      "  self._setitem_with_indexer(indexer, value)\n"
     ]
    },
    {
     "data": {
      "text/html": [
       "<div>\n",
       "<style>\n",
       "    .dataframe thead tr:only-child th {\n",
       "        text-align: right;\n",
       "    }\n",
       "\n",
       "    .dataframe thead th {\n",
       "        text-align: left;\n",
       "    }\n",
       "\n",
       "    .dataframe tbody tr th {\n",
       "        vertical-align: top;\n",
       "    }\n",
       "</style>\n",
       "<table border=\"1\" class=\"dataframe\">\n",
       "  <thead>\n",
       "    <tr style=\"text-align: right;\">\n",
       "      <th></th>\n",
       "      <th>fixed acidity</th>\n",
       "      <th>volatile acidity</th>\n",
       "      <th>citric acid</th>\n",
       "      <th>residual sugar</th>\n",
       "      <th>chlorides</th>\n",
       "      <th>free sulfur dioxide</th>\n",
       "      <th>total sulfur dioxide</th>\n",
       "      <th>density</th>\n",
       "      <th>pH</th>\n",
       "      <th>sulphates</th>\n",
       "      <th>alcohol</th>\n",
       "      <th>quality</th>\n",
       "    </tr>\n",
       "  </thead>\n",
       "  <tbody>\n",
       "    <tr>\n",
       "      <th>0</th>\n",
       "      <td>7.4</td>\n",
       "      <td>0.70</td>\n",
       "      <td>0.00</td>\n",
       "      <td>1.9</td>\n",
       "      <td>0.076</td>\n",
       "      <td>11.0</td>\n",
       "      <td>34.0</td>\n",
       "      <td>0.9978</td>\n",
       "      <td>3.51</td>\n",
       "      <td>0.56</td>\n",
       "      <td>9.4</td>\n",
       "      <td>-1</td>\n",
       "    </tr>\n",
       "    <tr>\n",
       "      <th>1</th>\n",
       "      <td>7.8</td>\n",
       "      <td>0.88</td>\n",
       "      <td>0.00</td>\n",
       "      <td>2.6</td>\n",
       "      <td>0.098</td>\n",
       "      <td>25.0</td>\n",
       "      <td>67.0</td>\n",
       "      <td>0.9968</td>\n",
       "      <td>3.20</td>\n",
       "      <td>0.68</td>\n",
       "      <td>9.8</td>\n",
       "      <td>-1</td>\n",
       "    </tr>\n",
       "    <tr>\n",
       "      <th>2</th>\n",
       "      <td>7.8</td>\n",
       "      <td>0.76</td>\n",
       "      <td>0.04</td>\n",
       "      <td>2.3</td>\n",
       "      <td>0.092</td>\n",
       "      <td>15.0</td>\n",
       "      <td>54.0</td>\n",
       "      <td>0.9970</td>\n",
       "      <td>3.26</td>\n",
       "      <td>0.65</td>\n",
       "      <td>9.8</td>\n",
       "      <td>-1</td>\n",
       "    </tr>\n",
       "    <tr>\n",
       "      <th>3</th>\n",
       "      <td>11.2</td>\n",
       "      <td>0.28</td>\n",
       "      <td>0.56</td>\n",
       "      <td>1.9</td>\n",
       "      <td>0.075</td>\n",
       "      <td>17.0</td>\n",
       "      <td>60.0</td>\n",
       "      <td>0.9980</td>\n",
       "      <td>3.16</td>\n",
       "      <td>0.58</td>\n",
       "      <td>9.8</td>\n",
       "      <td>1</td>\n",
       "    </tr>\n",
       "    <tr>\n",
       "      <th>4</th>\n",
       "      <td>7.4</td>\n",
       "      <td>0.70</td>\n",
       "      <td>0.00</td>\n",
       "      <td>1.9</td>\n",
       "      <td>0.076</td>\n",
       "      <td>11.0</td>\n",
       "      <td>34.0</td>\n",
       "      <td>0.9978</td>\n",
       "      <td>3.51</td>\n",
       "      <td>0.56</td>\n",
       "      <td>9.4</td>\n",
       "      <td>-1</td>\n",
       "    </tr>\n",
       "  </tbody>\n",
       "</table>\n",
       "</div>"
      ],
      "text/plain": [
       "   fixed acidity  volatile acidity  citric acid  residual sugar  chlorides  \\\n",
       "0            7.4              0.70         0.00             1.9      0.076   \n",
       "1            7.8              0.88         0.00             2.6      0.098   \n",
       "2            7.8              0.76         0.04             2.3      0.092   \n",
       "3           11.2              0.28         0.56             1.9      0.075   \n",
       "4            7.4              0.70         0.00             1.9      0.076   \n",
       "\n",
       "   free sulfur dioxide  total sulfur dioxide  density    pH  sulphates  \\\n",
       "0                 11.0                  34.0   0.9978  3.51       0.56   \n",
       "1                 25.0                  67.0   0.9968  3.20       0.68   \n",
       "2                 15.0                  54.0   0.9970  3.26       0.65   \n",
       "3                 17.0                  60.0   0.9980  3.16       0.58   \n",
       "4                 11.0                  34.0   0.9978  3.51       0.56   \n",
       "\n",
       "   alcohol  quality  \n",
       "0      9.4       -1  \n",
       "1      9.8       -1  \n",
       "2      9.8       -1  \n",
       "3      9.8        1  \n",
       "4      9.4       -1  "
      ]
     },
     "execution_count": 2,
     "metadata": {},
     "output_type": "execute_result"
    }
   ],
   "source": [
    "# Load Dataset 1\n",
    "\n",
    "filename = 'winequality-red.csv'\n",
    "data1 = pd.read_csv(filename,delimiter = ';')\n",
    "\n",
    "# Let the quality value larger than 5 to be 1, quality value less than 5 to be -1.\n",
    "data1.quality.loc[(data1['quality'] > 5)] = 1\n",
    "data1.quality.loc[(data1['quality'] != 1)] = -1\n",
    "print(data1.shape)\n",
    "data1.head(5)"
   ]
  },
  {
   "cell_type": "code",
   "execution_count": 3,
   "metadata": {},
   "outputs": [
    {
     "data": {
      "text/html": [
       "<div>\n",
       "<style>\n",
       "    .dataframe thead tr:only-child th {\n",
       "        text-align: right;\n",
       "    }\n",
       "\n",
       "    .dataframe thead th {\n",
       "        text-align: left;\n",
       "    }\n",
       "\n",
       "    .dataframe tbody tr th {\n",
       "        vertical-align: top;\n",
       "    }\n",
       "</style>\n",
       "<table border=\"1\" class=\"dataframe\">\n",
       "  <thead>\n",
       "    <tr style=\"text-align: right;\">\n",
       "      <th></th>\n",
       "      <th>fixed acidity</th>\n",
       "      <th>volatile acidity</th>\n",
       "      <th>citric acid</th>\n",
       "      <th>residual sugar</th>\n",
       "      <th>chlorides</th>\n",
       "      <th>free sulfur dioxide</th>\n",
       "      <th>total sulfur dioxide</th>\n",
       "      <th>density</th>\n",
       "      <th>pH</th>\n",
       "      <th>sulphates</th>\n",
       "      <th>alcohol</th>\n",
       "      <th>quality</th>\n",
       "    </tr>\n",
       "  </thead>\n",
       "  <tbody>\n",
       "    <tr>\n",
       "      <th>0</th>\n",
       "      <td>0.247788</td>\n",
       "      <td>0.397260</td>\n",
       "      <td>0.00</td>\n",
       "      <td>0.068493</td>\n",
       "      <td>0.106845</td>\n",
       "      <td>0.140845</td>\n",
       "      <td>0.098940</td>\n",
       "      <td>0.567548</td>\n",
       "      <td>0.606299</td>\n",
       "      <td>0.137725</td>\n",
       "      <td>0.153846</td>\n",
       "      <td>-1</td>\n",
       "    </tr>\n",
       "    <tr>\n",
       "      <th>1</th>\n",
       "      <td>0.283186</td>\n",
       "      <td>0.520548</td>\n",
       "      <td>0.00</td>\n",
       "      <td>0.116438</td>\n",
       "      <td>0.143573</td>\n",
       "      <td>0.338028</td>\n",
       "      <td>0.215548</td>\n",
       "      <td>0.494126</td>\n",
       "      <td>0.362205</td>\n",
       "      <td>0.209581</td>\n",
       "      <td>0.215385</td>\n",
       "      <td>-1</td>\n",
       "    </tr>\n",
       "    <tr>\n",
       "      <th>2</th>\n",
       "      <td>0.283186</td>\n",
       "      <td>0.438356</td>\n",
       "      <td>0.04</td>\n",
       "      <td>0.095890</td>\n",
       "      <td>0.133556</td>\n",
       "      <td>0.197183</td>\n",
       "      <td>0.169611</td>\n",
       "      <td>0.508811</td>\n",
       "      <td>0.409449</td>\n",
       "      <td>0.191617</td>\n",
       "      <td>0.215385</td>\n",
       "      <td>-1</td>\n",
       "    </tr>\n",
       "    <tr>\n",
       "      <th>3</th>\n",
       "      <td>0.584071</td>\n",
       "      <td>0.109589</td>\n",
       "      <td>0.56</td>\n",
       "      <td>0.068493</td>\n",
       "      <td>0.105175</td>\n",
       "      <td>0.225352</td>\n",
       "      <td>0.190813</td>\n",
       "      <td>0.582232</td>\n",
       "      <td>0.330709</td>\n",
       "      <td>0.149701</td>\n",
       "      <td>0.215385</td>\n",
       "      <td>1</td>\n",
       "    </tr>\n",
       "    <tr>\n",
       "      <th>4</th>\n",
       "      <td>0.247788</td>\n",
       "      <td>0.397260</td>\n",
       "      <td>0.00</td>\n",
       "      <td>0.068493</td>\n",
       "      <td>0.106845</td>\n",
       "      <td>0.140845</td>\n",
       "      <td>0.098940</td>\n",
       "      <td>0.567548</td>\n",
       "      <td>0.606299</td>\n",
       "      <td>0.137725</td>\n",
       "      <td>0.153846</td>\n",
       "      <td>-1</td>\n",
       "    </tr>\n",
       "  </tbody>\n",
       "</table>\n",
       "</div>"
      ],
      "text/plain": [
       "   fixed acidity  volatile acidity  citric acid  residual sugar  chlorides  \\\n",
       "0       0.247788          0.397260         0.00        0.068493   0.106845   \n",
       "1       0.283186          0.520548         0.00        0.116438   0.143573   \n",
       "2       0.283186          0.438356         0.04        0.095890   0.133556   \n",
       "3       0.584071          0.109589         0.56        0.068493   0.105175   \n",
       "4       0.247788          0.397260         0.00        0.068493   0.106845   \n",
       "\n",
       "   free sulfur dioxide  total sulfur dioxide   density        pH  sulphates  \\\n",
       "0             0.140845              0.098940  0.567548  0.606299   0.137725   \n",
       "1             0.338028              0.215548  0.494126  0.362205   0.209581   \n",
       "2             0.197183              0.169611  0.508811  0.409449   0.191617   \n",
       "3             0.225352              0.190813  0.582232  0.330709   0.149701   \n",
       "4             0.140845              0.098940  0.567548  0.606299   0.137725   \n",
       "\n",
       "    alcohol  quality  \n",
       "0  0.153846       -1  \n",
       "1  0.215385       -1  \n",
       "2  0.215385       -1  \n",
       "3  0.215385        1  \n",
       "4  0.153846       -1  "
      ]
     },
     "execution_count": 3,
     "metadata": {},
     "output_type": "execute_result"
    }
   ],
   "source": [
    "# Normalize dataframe by each columns\n",
    "data1['fixed acidity']=((data1['fixed acidity']-data1['fixed acidity'].min())/(data1['fixed acidity'].max()-data1['fixed acidity'].min()))\n",
    "data1['volatile acidity']=((data1['volatile acidity']-data1['volatile acidity'].min())/(data1['volatile acidity'].max()-data1['volatile acidity'].min()))\n",
    "data1['citric acid']=((data1['citric acid']-data1['citric acid'].min())/(data1['citric acid'].max()-data1['citric acid'].min()))\n",
    "data1['residual sugar']=((data1['residual sugar']-data1['residual sugar'].min())/(data1['residual sugar'].max()-data1['residual sugar'].min()))\n",
    "data1['chlorides']=((data1['chlorides']-data1['chlorides'].min())/(data1['chlorides'].max()-data1['chlorides'].min()))\n",
    "data1['free sulfur dioxide']=((data1['free sulfur dioxide']-data1['free sulfur dioxide'].min())/(data1['free sulfur dioxide'].max()-data1['free sulfur dioxide'].min()))\n",
    "data1['total sulfur dioxide']=((data1['total sulfur dioxide']-data1['total sulfur dioxide'].min())/(data1['total sulfur dioxide'].max()-data1['total sulfur dioxide'].min()))\n",
    "data1['density']=((data1['density']-data1['density'].min())/(data1['density'].max()-data1['density'].min()))\n",
    "data1['pH']=((data1['pH']-data1['pH'].min())/(data1['pH'].max()-data1['pH'].min()))\n",
    "data1['sulphates']=((data1['sulphates']-data1['sulphates'].min())/(data1['sulphates'].max()-data1['sulphates'].min()))\n",
    "data1['alcohol']=((data1['alcohol']-data1['alcohol'].min())/(data1['alcohol'].max()-data1['alcohol'].min()))\n",
    "\n",
    "data1.head(5)\n",
    "\n"
   ]
  },
  {
   "cell_type": "code",
   "execution_count": 4,
   "metadata": {},
   "outputs": [
    {
     "name": "stderr",
     "output_type": "stream",
     "text": [
      "/Users/ziwenzeng/anaconda3/lib/python3.6/site-packages/pandas/core/indexing.py:179: SettingWithCopyWarning: \n",
      "A value is trying to be set on a copy of a slice from a DataFrame\n",
      "\n",
      "See the caveats in the documentation: http://pandas.pydata.org/pandas-docs/stable/indexing.html#indexing-view-versus-copy\n",
      "  self._setitem_with_indexer(indexer, value)\n"
     ]
    }
   ],
   "source": [
    "# TRY normalize the whole dataframe: data1\n",
    "filename = 'winequality-red.csv'\n",
    "data1 = pd.read_csv(filename,delimiter = ';')\n",
    "\n",
    "data1.quality.loc[(data1['quality'] > 5)] = 1\n",
    "data1.quality.loc[(data1['quality'] != 1)] = -1\n",
    "data1=((data1-data1.min())/(data1.max()-data1.min()))\n",
    "# data1"
   ]
  },
  {
   "cell_type": "markdown",
   "metadata": {},
   "source": [
    " "
   ]
  },
  {
   "cell_type": "code",
   "execution_count": 6,
   "metadata": {},
   "outputs": [
    {
     "name": "stdout",
     "output_type": "stream",
     "text": [
      "(149, 5)\n"
     ]
    },
    {
     "data": {
      "text/html": [
       "<div>\n",
       "<style>\n",
       "    .dataframe thead tr:only-child th {\n",
       "        text-align: right;\n",
       "    }\n",
       "\n",
       "    .dataframe thead th {\n",
       "        text-align: left;\n",
       "    }\n",
       "\n",
       "    .dataframe tbody tr th {\n",
       "        vertical-align: top;\n",
       "    }\n",
       "</style>\n",
       "<table border=\"1\" class=\"dataframe\">\n",
       "  <thead>\n",
       "    <tr style=\"text-align: right;\">\n",
       "      <th></th>\n",
       "      <th>sepal_length</th>\n",
       "      <th>sepal_width</th>\n",
       "      <th>petal_length</th>\n",
       "      <th>petal_width</th>\n",
       "      <th>class</th>\n",
       "    </tr>\n",
       "  </thead>\n",
       "  <tbody>\n",
       "    <tr>\n",
       "      <th>0</th>\n",
       "      <td>4.9</td>\n",
       "      <td>3.0</td>\n",
       "      <td>1.4</td>\n",
       "      <td>0.2</td>\n",
       "      <td>1</td>\n",
       "    </tr>\n",
       "    <tr>\n",
       "      <th>1</th>\n",
       "      <td>4.7</td>\n",
       "      <td>3.2</td>\n",
       "      <td>1.3</td>\n",
       "      <td>0.2</td>\n",
       "      <td>1</td>\n",
       "    </tr>\n",
       "    <tr>\n",
       "      <th>2</th>\n",
       "      <td>4.6</td>\n",
       "      <td>3.1</td>\n",
       "      <td>1.5</td>\n",
       "      <td>0.2</td>\n",
       "      <td>1</td>\n",
       "    </tr>\n",
       "    <tr>\n",
       "      <th>3</th>\n",
       "      <td>5.0</td>\n",
       "      <td>3.6</td>\n",
       "      <td>1.4</td>\n",
       "      <td>0.2</td>\n",
       "      <td>1</td>\n",
       "    </tr>\n",
       "    <tr>\n",
       "      <th>4</th>\n",
       "      <td>5.4</td>\n",
       "      <td>3.9</td>\n",
       "      <td>1.7</td>\n",
       "      <td>0.4</td>\n",
       "      <td>1</td>\n",
       "    </tr>\n",
       "  </tbody>\n",
       "</table>\n",
       "</div>"
      ],
      "text/plain": [
       "   sepal_length  sepal_width  petal_length  petal_width  class\n",
       "0           4.9          3.0           1.4          0.2      1\n",
       "1           4.7          3.2           1.3          0.2      1\n",
       "2           4.6          3.1           1.5          0.2      1\n",
       "3           5.0          3.6           1.4          0.2      1\n",
       "4           5.4          3.9           1.7          0.4      1"
      ]
     },
     "execution_count": 6,
     "metadata": {},
     "output_type": "execute_result"
    }
   ],
   "source": [
    "# Load Dataset 3: Predict the Iris Category\n",
    "\n",
    "filename = 'iris.data'\n",
    "data3 = pd.read_csv(filename)\n",
    "\n",
    "# Rename thee columns\n",
    "data3.columns = ['sepal_length','sepal_width','petal_length','petal_width','class']\n",
    "\n",
    "# Let class = Iris-setosa to be 1, let the class that is not Iris-setosa to be -1\n",
    "data3 = data3.replace({'class':'Iris-setosa'}, 1)\n",
    "data3 = data3.replace({'class':'Iris-virginica'}, -1)\n",
    "data3 = data3.replace({'class':'Iris-versicolor'}, -1)\n",
    "\n",
    "print(data3.shape)\n",
    "data3.head(5)"
   ]
  },
  {
   "cell_type": "code",
   "execution_count": 7,
   "metadata": {},
   "outputs": [
    {
     "data": {
      "text/html": [
       "<div>\n",
       "<style>\n",
       "    .dataframe thead tr:only-child th {\n",
       "        text-align: right;\n",
       "    }\n",
       "\n",
       "    .dataframe thead th {\n",
       "        text-align: left;\n",
       "    }\n",
       "\n",
       "    .dataframe tbody tr th {\n",
       "        vertical-align: top;\n",
       "    }\n",
       "</style>\n",
       "<table border=\"1\" class=\"dataframe\">\n",
       "  <thead>\n",
       "    <tr style=\"text-align: right;\">\n",
       "      <th></th>\n",
       "      <th>Doors</th>\n",
       "      <th>Person</th>\n",
       "      <th>['Buying']_high</th>\n",
       "      <th>['Buying']_low</th>\n",
       "      <th>['Buying']_med</th>\n",
       "      <th>['Buying']_vhigh</th>\n",
       "      <th>['Maintenance_price']_high</th>\n",
       "      <th>['Maintenance_price']_low</th>\n",
       "      <th>['Maintenance_price']_med</th>\n",
       "      <th>['Maintenance_price']_vhigh</th>\n",
       "      <th>['Lug_boot']_big</th>\n",
       "      <th>['Lug_boot']_med</th>\n",
       "      <th>['Lug_boot']_small</th>\n",
       "      <th>['Safety']_high</th>\n",
       "      <th>['Safety']_low</th>\n",
       "      <th>['Safety']_med</th>\n",
       "      <th>Acceptability</th>\n",
       "    </tr>\n",
       "  </thead>\n",
       "  <tbody>\n",
       "    <tr>\n",
       "      <th>0</th>\n",
       "      <td>2</td>\n",
       "      <td>2</td>\n",
       "      <td>0</td>\n",
       "      <td>0</td>\n",
       "      <td>0</td>\n",
       "      <td>1</td>\n",
       "      <td>0</td>\n",
       "      <td>0</td>\n",
       "      <td>0</td>\n",
       "      <td>1</td>\n",
       "      <td>0</td>\n",
       "      <td>0</td>\n",
       "      <td>1</td>\n",
       "      <td>0</td>\n",
       "      <td>0</td>\n",
       "      <td>1</td>\n",
       "      <td>-1</td>\n",
       "    </tr>\n",
       "    <tr>\n",
       "      <th>1</th>\n",
       "      <td>2</td>\n",
       "      <td>2</td>\n",
       "      <td>0</td>\n",
       "      <td>0</td>\n",
       "      <td>0</td>\n",
       "      <td>1</td>\n",
       "      <td>0</td>\n",
       "      <td>0</td>\n",
       "      <td>0</td>\n",
       "      <td>1</td>\n",
       "      <td>0</td>\n",
       "      <td>0</td>\n",
       "      <td>1</td>\n",
       "      <td>1</td>\n",
       "      <td>0</td>\n",
       "      <td>0</td>\n",
       "      <td>-1</td>\n",
       "    </tr>\n",
       "    <tr>\n",
       "      <th>2</th>\n",
       "      <td>2</td>\n",
       "      <td>2</td>\n",
       "      <td>0</td>\n",
       "      <td>0</td>\n",
       "      <td>0</td>\n",
       "      <td>1</td>\n",
       "      <td>0</td>\n",
       "      <td>0</td>\n",
       "      <td>0</td>\n",
       "      <td>1</td>\n",
       "      <td>0</td>\n",
       "      <td>1</td>\n",
       "      <td>0</td>\n",
       "      <td>0</td>\n",
       "      <td>1</td>\n",
       "      <td>0</td>\n",
       "      <td>-1</td>\n",
       "    </tr>\n",
       "    <tr>\n",
       "      <th>3</th>\n",
       "      <td>2</td>\n",
       "      <td>2</td>\n",
       "      <td>0</td>\n",
       "      <td>0</td>\n",
       "      <td>0</td>\n",
       "      <td>1</td>\n",
       "      <td>0</td>\n",
       "      <td>0</td>\n",
       "      <td>0</td>\n",
       "      <td>1</td>\n",
       "      <td>0</td>\n",
       "      <td>1</td>\n",
       "      <td>0</td>\n",
       "      <td>0</td>\n",
       "      <td>0</td>\n",
       "      <td>1</td>\n",
       "      <td>-1</td>\n",
       "    </tr>\n",
       "    <tr>\n",
       "      <th>4</th>\n",
       "      <td>2</td>\n",
       "      <td>2</td>\n",
       "      <td>0</td>\n",
       "      <td>0</td>\n",
       "      <td>0</td>\n",
       "      <td>1</td>\n",
       "      <td>0</td>\n",
       "      <td>0</td>\n",
       "      <td>0</td>\n",
       "      <td>1</td>\n",
       "      <td>0</td>\n",
       "      <td>1</td>\n",
       "      <td>0</td>\n",
       "      <td>1</td>\n",
       "      <td>0</td>\n",
       "      <td>0</td>\n",
       "      <td>-1</td>\n",
       "    </tr>\n",
       "  </tbody>\n",
       "</table>\n",
       "</div>"
      ],
      "text/plain": [
       "  Doors Person  ['Buying']_high  ['Buying']_low  ['Buying']_med  \\\n",
       "0     2      2                0               0               0   \n",
       "1     2      2                0               0               0   \n",
       "2     2      2                0               0               0   \n",
       "3     2      2                0               0               0   \n",
       "4     2      2                0               0               0   \n",
       "\n",
       "   ['Buying']_vhigh  ['Maintenance_price']_high  ['Maintenance_price']_low  \\\n",
       "0                 1                           0                          0   \n",
       "1                 1                           0                          0   \n",
       "2                 1                           0                          0   \n",
       "3                 1                           0                          0   \n",
       "4                 1                           0                          0   \n",
       "\n",
       "   ['Maintenance_price']_med  ['Maintenance_price']_vhigh  ['Lug_boot']_big  \\\n",
       "0                          0                            1                 0   \n",
       "1                          0                            1                 0   \n",
       "2                          0                            1                 0   \n",
       "3                          0                            1                 0   \n",
       "4                          0                            1                 0   \n",
       "\n",
       "   ['Lug_boot']_med  ['Lug_boot']_small  ['Safety']_high  ['Safety']_low  \\\n",
       "0                 0                   1                0               0   \n",
       "1                 0                   1                1               0   \n",
       "2                 1                   0                0               1   \n",
       "3                 1                   0                0               0   \n",
       "4                 1                   0                1               0   \n",
       "\n",
       "   ['Safety']_med Acceptability  \n",
       "0               1            -1  \n",
       "1               0            -1  \n",
       "2               0            -1  \n",
       "3               1            -1  \n",
       "4               0            -1  "
      ]
     },
     "execution_count": 7,
     "metadata": {},
     "output_type": "execute_result"
    }
   ],
   "source": [
    "# Load Dataset 4: Car Evaluation\n",
    "\n",
    "filename = 'car.data'\n",
    "data4 = pd.read_csv(filename)\n",
    "data4.columns = ['Buying','Maintenance_price','Doors','Person','Lug_boot','Safety','Acceptability']\n",
    "\n",
    "# Data Cleaning: make sure 'Door' and 'Person\" all use integer values\n",
    "data4.Doors.loc[(data4['Doors'] == '5more' )] = 7\n",
    "data4.Person.loc[(data4['Person'] == 'more' )] = 7\n",
    "\n",
    "# Data Cleaning: convert car acceptability to -1 when it's 'unacceptible' and 'acceptiable', +1 when it's 'good' and 'very good'.  \n",
    "data4.Acceptability.loc[(data4['Acceptability'] == 'unacc' )] = -1\n",
    "data4.Acceptability.loc[(data4['Acceptability'] == 'acc' )] = -1\n",
    "data4.Acceptability.loc[(data4['Acceptability'] == 'good' )] = +1\n",
    "data4.Acceptability.loc[(data4['Acceptability'] == 'vgood' )] = +1\n",
    "\n",
    "# One-hot Encoding on 'buying','lug_boot', 'maintenance','safety'\n",
    "buying = pd.get_dummies(data4['Buying'],prefix=['Buying'])\n",
    "maintenance = pd.get_dummies(data4['Maintenance_price'],prefix = ['Maintenance_price'])\n",
    "lug = pd.get_dummies(data4['Lug_boot'],prefix = ['Lug_boot'])\n",
    "safety = pd.get_dummies(data4['Safety'],prefix = ['Safety'])\n",
    "\n",
    "data4 = pd.concat([data4,buying,maintenance,lug,safety],axis = 1)\n",
    "data4 = data4.drop(['Buying','Maintenance_price','Lug_boot','Safety'],axis = 1)\n",
    "\n",
    "# Put the predicted part ('area') to the last column\n",
    "Acceptability = data4['Acceptability']\n",
    "data4.drop(labels = ['Acceptability'],axis = 1, inplace = True)\n",
    "data4.insert(16,'Acceptability',Acceptability)\n",
    "data4.head(5)\n",
    "# print(data4.shape)\n",
    "\n"
   ]
  },
  {
   "cell_type": "markdown",
   "metadata": {},
   "source": [
    "\n"
   ]
  },
  {
   "cell_type": "code",
   "execution_count": 11,
   "metadata": {},
   "outputs": [
    {
     "name": "stderr",
     "output_type": "stream",
     "text": [
      "/Users/ziwenzeng/anaconda3/lib/python3.6/site-packages/pandas/core/indexing.py:179: SettingWithCopyWarning: \n",
      "A value is trying to be set on a copy of a slice from a DataFrame\n",
      "\n",
      "See the caveats in the documentation: http://pandas.pydata.org/pandas-docs/stable/indexing.html#indexing-view-versus-copy\n",
      "  self._setitem_with_indexer(indexer, value)\n"
     ]
    },
    {
     "data": {
      "text/html": [
       "<div>\n",
       "<style>\n",
       "    .dataframe thead tr:only-child th {\n",
       "        text-align: right;\n",
       "    }\n",
       "\n",
       "    .dataframe thead th {\n",
       "        text-align: left;\n",
       "    }\n",
       "\n",
       "    .dataframe tbody tr th {\n",
       "        vertical-align: top;\n",
       "    }\n",
       "</style>\n",
       "<table border=\"1\" class=\"dataframe\">\n",
       "  <thead>\n",
       "    <tr style=\"text-align: right;\">\n",
       "      <th></th>\n",
       "      <th>age</th>\n",
       "      <th>capital_gain</th>\n",
       "      <th>capital_loss</th>\n",
       "      <th>['workclass']_ Federal-gov</th>\n",
       "      <th>['workclass']_ Local-gov</th>\n",
       "      <th>['workclass']_ Never-worked</th>\n",
       "      <th>['workclass']_ Private</th>\n",
       "      <th>['workclass']_ Self-emp-inc</th>\n",
       "      <th>['workclass']_ Self-emp-not-inc</th>\n",
       "      <th>['workclass']_ State-gov</th>\n",
       "      <th>...</th>\n",
       "      <th>['education']_ Prof-school</th>\n",
       "      <th>['education']_ Some-college</th>\n",
       "      <th>['race']_ Amer-Indian-Eskimo</th>\n",
       "      <th>['race']_ Asian-Pac-Islander</th>\n",
       "      <th>['race']_ Black</th>\n",
       "      <th>['race']_ Other</th>\n",
       "      <th>['race']_ White</th>\n",
       "      <th>['sex']_ Female</th>\n",
       "      <th>['sex']_ Male</th>\n",
       "      <th>income</th>\n",
       "    </tr>\n",
       "  </thead>\n",
       "  <tbody>\n",
       "    <tr>\n",
       "      <th>17546</th>\n",
       "      <td>52</td>\n",
       "      <td>0</td>\n",
       "      <td>0</td>\n",
       "      <td>0</td>\n",
       "      <td>0</td>\n",
       "      <td>0</td>\n",
       "      <td>1</td>\n",
       "      <td>0</td>\n",
       "      <td>0</td>\n",
       "      <td>0</td>\n",
       "      <td>...</td>\n",
       "      <td>0</td>\n",
       "      <td>0</td>\n",
       "      <td>0</td>\n",
       "      <td>0</td>\n",
       "      <td>0</td>\n",
       "      <td>0</td>\n",
       "      <td>1</td>\n",
       "      <td>0</td>\n",
       "      <td>1</td>\n",
       "      <td>-1</td>\n",
       "    </tr>\n",
       "    <tr>\n",
       "      <th>22900</th>\n",
       "      <td>31</td>\n",
       "      <td>0</td>\n",
       "      <td>0</td>\n",
       "      <td>0</td>\n",
       "      <td>0</td>\n",
       "      <td>0</td>\n",
       "      <td>0</td>\n",
       "      <td>1</td>\n",
       "      <td>0</td>\n",
       "      <td>0</td>\n",
       "      <td>...</td>\n",
       "      <td>0</td>\n",
       "      <td>0</td>\n",
       "      <td>0</td>\n",
       "      <td>0</td>\n",
       "      <td>0</td>\n",
       "      <td>0</td>\n",
       "      <td>1</td>\n",
       "      <td>0</td>\n",
       "      <td>1</td>\n",
       "      <td>-1</td>\n",
       "    </tr>\n",
       "    <tr>\n",
       "      <th>16539</th>\n",
       "      <td>33</td>\n",
       "      <td>0</td>\n",
       "      <td>0</td>\n",
       "      <td>0</td>\n",
       "      <td>0</td>\n",
       "      <td>0</td>\n",
       "      <td>1</td>\n",
       "      <td>0</td>\n",
       "      <td>0</td>\n",
       "      <td>0</td>\n",
       "      <td>...</td>\n",
       "      <td>0</td>\n",
       "      <td>0</td>\n",
       "      <td>0</td>\n",
       "      <td>0</td>\n",
       "      <td>0</td>\n",
       "      <td>0</td>\n",
       "      <td>1</td>\n",
       "      <td>0</td>\n",
       "      <td>1</td>\n",
       "      <td>-1</td>\n",
       "    </tr>\n",
       "    <tr>\n",
       "      <th>27151</th>\n",
       "      <td>66</td>\n",
       "      <td>0</td>\n",
       "      <td>0</td>\n",
       "      <td>0</td>\n",
       "      <td>0</td>\n",
       "      <td>0</td>\n",
       "      <td>1</td>\n",
       "      <td>0</td>\n",
       "      <td>0</td>\n",
       "      <td>0</td>\n",
       "      <td>...</td>\n",
       "      <td>0</td>\n",
       "      <td>0</td>\n",
       "      <td>0</td>\n",
       "      <td>0</td>\n",
       "      <td>0</td>\n",
       "      <td>0</td>\n",
       "      <td>1</td>\n",
       "      <td>1</td>\n",
       "      <td>0</td>\n",
       "      <td>-1</td>\n",
       "    </tr>\n",
       "    <tr>\n",
       "      <th>331</th>\n",
       "      <td>47</td>\n",
       "      <td>0</td>\n",
       "      <td>0</td>\n",
       "      <td>0</td>\n",
       "      <td>0</td>\n",
       "      <td>0</td>\n",
       "      <td>1</td>\n",
       "      <td>0</td>\n",
       "      <td>0</td>\n",
       "      <td>0</td>\n",
       "      <td>...</td>\n",
       "      <td>0</td>\n",
       "      <td>0</td>\n",
       "      <td>0</td>\n",
       "      <td>0</td>\n",
       "      <td>0</td>\n",
       "      <td>0</td>\n",
       "      <td>1</td>\n",
       "      <td>0</td>\n",
       "      <td>1</td>\n",
       "      <td>-1</td>\n",
       "    </tr>\n",
       "  </tbody>\n",
       "</table>\n",
       "<p>5 rows × 35 columns</p>\n",
       "</div>"
      ],
      "text/plain": [
       "       age  capital_gain  capital_loss  ['workclass']_ Federal-gov  \\\n",
       "17546   52             0             0                           0   \n",
       "22900   31             0             0                           0   \n",
       "16539   33             0             0                           0   \n",
       "27151   66             0             0                           0   \n",
       "331     47             0             0                           0   \n",
       "\n",
       "       ['workclass']_ Local-gov  ['workclass']_ Never-worked  \\\n",
       "17546                         0                            0   \n",
       "22900                         0                            0   \n",
       "16539                         0                            0   \n",
       "27151                         0                            0   \n",
       "331                           0                            0   \n",
       "\n",
       "       ['workclass']_ Private  ['workclass']_ Self-emp-inc  \\\n",
       "17546                       1                            0   \n",
       "22900                       0                            1   \n",
       "16539                       1                            0   \n",
       "27151                       1                            0   \n",
       "331                         1                            0   \n",
       "\n",
       "       ['workclass']_ Self-emp-not-inc  ['workclass']_ State-gov   ...    \\\n",
       "17546                                0                         0   ...     \n",
       "22900                                0                         0   ...     \n",
       "16539                                0                         0   ...     \n",
       "27151                                0                         0   ...     \n",
       "331                                  0                         0   ...     \n",
       "\n",
       "       ['education']_ Prof-school  ['education']_ Some-college  \\\n",
       "17546                           0                            0   \n",
       "22900                           0                            0   \n",
       "16539                           0                            0   \n",
       "27151                           0                            0   \n",
       "331                             0                            0   \n",
       "\n",
       "       ['race']_ Amer-Indian-Eskimo  ['race']_ Asian-Pac-Islander  \\\n",
       "17546                             0                             0   \n",
       "22900                             0                             0   \n",
       "16539                             0                             0   \n",
       "27151                             0                             0   \n",
       "331                               0                             0   \n",
       "\n",
       "       ['race']_ Black  ['race']_ Other  ['race']_ White  ['sex']_ Female  \\\n",
       "17546                0                0                1                0   \n",
       "22900                0                0                1                0   \n",
       "16539                0                0                1                0   \n",
       "27151                0                0                1                1   \n",
       "331                  0                0                1                0   \n",
       "\n",
       "       ['sex']_ Male  income  \n",
       "17546              1      -1  \n",
       "22900              1      -1  \n",
       "16539              1      -1  \n",
       "27151              0      -1  \n",
       "331                1      -1  \n",
       "\n",
       "[5 rows x 35 columns]"
      ]
     },
     "execution_count": 11,
     "metadata": {},
     "output_type": "execute_result"
    }
   ],
   "source": [
    "# Load Dataset 5: Census Income\n",
    "\n",
    "filename = 'adult.data'\n",
    "data5 = pd.read_csv(filename)\n",
    "\n",
    "\n",
    "# Rename thee columns\n",
    "data5.columns = ['age','workclass','fnlwgt','education','edu_num','marry_status','occupation','relationship','race','sex','capital_gain','capital_loss','hours-per-week','native_country','income']\n",
    "\n",
    "data5 = data5.drop(['fnlwgt','marry_status','hours-per-week','occupation','native_country','relationship','edu_num'], axis=1)\n",
    "\n",
    "data5.drop(data5.loc[data5['workclass']==' ?'].index, inplace=True)\n",
    "\n",
    "data5.income.loc[(data5['income'] == ' <=50K' )] = -1\n",
    "data5.income.loc[(data5['income'] == ' >50K' )] = +1\n",
    "\n",
    "# One-hot encoding for workclass and education\n",
    "workclass = pd.get_dummies(data5['workclass'],prefix=['workclass'])\n",
    "education = pd.get_dummies(data5['education'],prefix = ['education'])\n",
    "\n",
    "race = pd.get_dummies(data5['race'],prefix = ['race'])\n",
    "sex = pd.get_dummies(data5['sex'],prefix = ['sex'])\n",
    "\n",
    "\n",
    "data5 = pd.concat([data5,workclass,education,race,sex],axis = 1)\n",
    "data5 = data5.drop(['workclass','education','race','sex'],axis = 1)\n",
    "\n",
    "# Put the predicted part ('area') to the last column\n",
    "income = data5['income']\n",
    "data5.drop(labels = ['income'],axis = 1, inplace = True)\n",
    "data5.insert(34,'income',income)\n",
    "\n",
    "data5 = data5.sample(n=7000)\n",
    "\n",
    "# data5.reset_index()\n",
    "data5.head(5)\n",
    "\n"
   ]
  },
  {
   "cell_type": "code",
   "execution_count": 9,
   "metadata": {},
   "outputs": [
    {
     "name": "stdout",
     "output_type": "stream",
     "text": [
      "1757\n",
      "5243\n"
     ]
    }
   ],
   "source": [
    "print(data5.loc[data5.income == 1, 'income'].count())\n",
    "print(data5.loc[data5.income == -1, 'income'].count())"
   ]
  },
  {
   "cell_type": "code",
   "execution_count": 10,
   "metadata": {},
   "outputs": [
    {
     "name": "stdout",
     "output_type": "stream",
     "text": [
      "(1599, 12)\n",
      "(149, 5)\n",
      "(1727, 17)\n",
      "(7000, 35)\n"
     ]
    }
   ],
   "source": [
    "# Prepare three datasets:\n",
    "\n",
    "#1) Convert dataframe into nparray\n",
    "#2) shuffle the data\n",
    "\n",
    "Data_1 = data1.values\n",
    "# Data_2 = data2.values\n",
    "Data_3 = data3.values\n",
    "Data_4 = data4.values\n",
    "Data_5 = data5.values\n",
    "\n",
    "print(Data_1.shape)\n",
    "# print(Data_2.shape)\n",
    "print(Data_3.shape)\n",
    "print(Data_4.shape)\n",
    "print(Data_5.shape)"
   ]
  },
  {
   "cell_type": "markdown",
   "metadata": {
    "collapsed": true
   },
   "source": [
    "# Part II: Define  Classifiers function"
   ]
  },
  {
   "cell_type": "code",
   "execution_count": 14,
   "metadata": {
    "collapsed": true
   },
   "outputs": [],
   "source": [
    "# One function to finish SVM classifier\n",
    "def runSVM(Data,partition,C_list):\n",
    "    np.random.shuffle(Data)\n",
    "    X = Data[:, 0:-1]         # First column to second last column: Features (numerical values) \n",
    "    Y = Data[:, -1]           # Last column: Labels (0 or 1)\n",
    "\n",
    "    X_train_val = X[:int(partition*len(X))] # Get features from train + val set.\n",
    "    X_test      = X[int(partition*len(X)):] # Get features from test set.     \n",
    "    Y_train_val = Y[:int(partition*len(Y))] # Get labels from train + val set.\n",
    "    Y_test     = Y[int(partition*len(Y)):] # Get labels from test set.\n",
    "    \n",
    "    Y_train_val = Y_train_val.astype('int')\n",
    "    Y_test = Y_test.astype('int')\n",
    "\n",
    "    Kernel_list = ['linear','rbf']\n",
    "    clf = SVC()\n",
    "    \n",
    "    # Define hyper-paramter C\n",
    "    parameters = {'kernel': Kernel_list,'C':C_list}\n",
    "    \n",
    "    # Get best paramter by doing cross-validation through gridSearch\n",
    "    classifier = GridSearchCV(clf,parameters,cv=3, return_train_score = True)\n",
    "    classifier.fit(X_train_val,Y_train_val)\n",
    "\n",
    "    # Find the training accuracy and validation accuracy corresponding to best paramter\n",
    "    train_acc =  classifier.cv_results_['mean_train_score']\n",
    "    best_train_acc = np.amax(train_acc) \n",
    "  \n",
    "    val_acc = classifier.cv_results_['mean_test_score']\n",
    "    best_val_acc = np.amax(val_acc) \n",
    "    \n",
    "    # Get the best paramters\n",
    "    Best_C = classifier.best_params_['C']\n",
    "    Best_Kernel = classifier.best_params_['kernel']\n",
    "    parameter = classifier.best_params_\n",
    "    \n",
    "\n",
    "    # Compute test accuracy based on best parameters\n",
    "    clf = svm.SVC(C = Best_C,kernel = Best_Kernel)\n",
    "    clf.fit(X_train_val,Y_train_val)\n",
    "    test_acc = clf.score(X_test, Y_test)\n",
    "\n",
    "    return parameter, best_train_acc, best_val_acc, test_acc"
   ]
  },
  {
   "cell_type": "code",
   "execution_count": 15,
   "metadata": {
    "collapsed": true
   },
   "outputs": [],
   "source": [
    "# Function to run on three trails and get average training, validation, and test accuracy\n",
    "\n",
    "def SVM(Data,Partition,C_list):\n",
    "    train_avg = 0\n",
    "    val_avg = 0\n",
    "    test_avg = 0\n",
    "\n",
    "    for i in range(3):\n",
    "        p, train_acc,val_acc, test_acc = runSVM(Data,Partition,C_list)\n",
    "        best_p = p\n",
    "        train_avg = train_avg + train_acc\n",
    "        val_avg = val_avg + val_acc\n",
    "        test_avg = test_avg + test_acc\n",
    "\n",
    "        print(\"\\n\"+\"Trial \" + str(i+1))\n",
    "        print(\"Best parameter: \" + str(best_p))\n",
    "        print(\"train accuracy is: \" + str(train_acc))\n",
    "        print(\"val accuracy is: \" + str(val_acc))\n",
    "        print(\"test accuracy is: \" + str(test_acc))\n",
    "\n",
    "    train_avg_svm = train_avg/3\n",
    "    val_avg_svm = val_avg/3\n",
    "    test_avg_svm = test_avg/3\n",
    "\n",
    "    print(\"\\n\"+\"Average train accuracy is: \" + str(train_avg_svm))\n",
    "    print(\"Average val accuracy is: \" + str(val_avg_svm))\n",
    "    print(\"Average test accuracy is: \" + str(test_avg_svm))\n",
    "    \n",
    "    return train_avg_svm,val_avg_svm,test_avg_svm"
   ]
  },
  {
   "cell_type": "code",
   "execution_count": 16,
   "metadata": {
    "collapsed": true
   },
   "outputs": [],
   "source": [
    "# One function to finish Random Forest Classifier\n",
    "def runRMF(Data,partition,estimator_list):\n",
    "    # Initiate RamdomForestClassifier\n",
    "    np.random.shuffle(Data)\n",
    "    X = Data[:, 0:-1]         # First column to second last column: Features (numerical values) \n",
    "    Y = Data[:, -1]           # Last column: Labels (0 or 1)\n",
    "    X_train_val = X[:int(partition*len(X))] # Get features from train + val set.\n",
    "    X_test      = X[int(partition*len(X)):] # Get features from test set.     \n",
    "    Y_train_val = Y[:int(partition*len(Y))] # Get labels from train + val set.\n",
    "    Y_test     = Y[int(partition*len(Y)):] # Get labels from test set.\n",
    "    \n",
    "    Y_train_val = Y_train_val.astype('int')\n",
    "    Y_test = Y_test.astype('int')\n",
    "    \n",
    "    clf = RandomForestClassifier()\n",
    "    # Define max_features by the number of features in X_train_val\n",
    "    \n",
    "    length = len(X_train_val[0])\n",
    "    features = []\n",
    "    for i in range(length):\n",
    "        features.append(i+1)\n",
    "    \n",
    "    # Define hyper-parameters to be criterion and n_estimator for cross-validation\n",
    "    parameters = {'criterion':['entropy','gini'],'n_estimators': estimator_list,'max_features':features}\n",
    "    # Use GrideSearch for cross-validation for hyper paramters\n",
    "    \n",
    "    classifier = GridSearchCV(clf, parameters,cv = 3, return_train_score = True)\n",
    "    classifier.fit(X_train_val,Y_train_val)\n",
    "\n",
    "    train_acc =  classifier.cv_results_['mean_train_score']\n",
    "    best_train_acc = np.amax(train_acc) \n",
    "    \n",
    "    val_acc = classifier.cv_results_['mean_test_score']\n",
    "    best_val_acc = np.amax(val_acc)\n",
    "    \n",
    "    # Get the best paramters\n",
    "    Best_criterion = classifier.best_params_['criterion']\n",
    "    Best_n_estimators = classifier.best_params_['n_estimators']\n",
    "    Best_max_features = classifier.best_params_['max_features']\n",
    "    parameter = classifier.best_params_\n",
    "\n",
    "    # Compute test accuracy based on best hyper-paramters\n",
    "    clf = RandomForestClassifier(criterion = Best_criterion , n_estimators = Best_n_estimators, max_features = Best_max_features)\n",
    "    clf.fit(X_train_val,Y_train_val)\n",
    "    test_acc = clf.score(X_test, Y_test)\n",
    "    \n",
    "    return parameter, best_train_acc, best_val_acc, test_acc\n",
    "\n",
    "\n"
   ]
  },
  {
   "cell_type": "code",
   "execution_count": 17,
   "metadata": {
    "collapsed": true
   },
   "outputs": [],
   "source": [
    "# Function to run on three trails and get average training, validation, and test accuracy\n",
    "\n",
    "def RMF(Data,Partition,n_estimator_list):\n",
    "    train_avg = 0\n",
    "    val_avg = 0\n",
    "    test_avg = 0\n",
    "\n",
    "    for i in range(3):\n",
    "        p, train_acc,val_acc, test_acc = runRMF(Data,Partition,n_estimator_list)\n",
    "        best_p = p\n",
    "        train_avg = train_avg + train_acc\n",
    "        val_avg = val_avg + val_acc\n",
    "        test_avg = test_avg + test_acc\n",
    "\n",
    "        print(\"\\n\"+\"Trial \" + str(i+1))\n",
    "        print(\"Best parameter: \" + str(best_p))\n",
    "        print(\"train accuracy is: \" + str(train_acc))\n",
    "        print(\"val accuracy is: \" + str(val_acc))\n",
    "        print(\"test accuracy is: \" + str(test_acc))\n",
    "\n",
    "    train_avg_rmf = train_avg/3\n",
    "    val_avg_rmf = val_avg/3\n",
    "    test_avg_rmf = test_avg/3\n",
    "\n",
    "    print(\"\\n\"+\"Average train accuracy is: \" + str(train_avg_rmf))\n",
    "    print(\"Average val accuracy is: \" + str(val_avg_rmf))\n",
    "    print(\"Average test accuracy is: \" + str(test_avg_rmf))\n",
    "    \n",
    "    return train_avg_rmf, val_avg_rmf,test_avg_rmf"
   ]
  },
  {
   "cell_type": "code",
   "execution_count": 18,
   "metadata": {
    "collapsed": true
   },
   "outputs": [],
   "source": [
    "\n",
    "def runKNN(Data,partition,K_list):\n",
    "\n",
    "    np.random.shuffle(Data)\n",
    "\n",
    "    X = Data[:, 0:-1]         # First column to second last column: Features (numerical values) \n",
    "    Y = Data[:, -1]           # Last column: Labels (0 or 1)\n",
    "    X_train_val = X[:int(partition*len(X))] # Get features from train + val set.\n",
    "    X_test      = X[int(partition*len(X)):] # Get features from test set.     \n",
    "    Y_train_val = Y[:int(partition*len(Y))] # Get labels from train + val set.\n",
    "    Y_test     = Y[int(partition*len(Y)):] # Get labels from test set.\n",
    "    \n",
    "    Y_train_val = Y_train_val.astype('int')\n",
    "    Y_test = Y_test.astype('int')\n",
    "\n",
    "    parameters = {'n_neighbors':K_list}\n",
    "    clf = KNeighborsClassifier()\n",
    "    \n",
    "    # Get best paramter by doing cross-validation through gridSearch\n",
    "    classifier = GridSearchCV(clf,parameters,cv=5, return_train_score = True)\n",
    "    classifier.fit(X_train_val,Y_train_val)\n",
    "\n",
    "    train_acc =  classifier.cv_results_['mean_train_score']\n",
    "    best_train_acc = np.amax(train_acc) \n",
    "    \n",
    "    val_acc = classifier.cv_results_['mean_test_score']\n",
    "    best_val_acc = np.amax(val_acc)\n",
    "\n",
    "    # Get the best paramters\n",
    "    Best_N = classifier.best_params_['n_neighbors']\n",
    "    parameter = classifier.best_params_\n",
    "\n",
    "    # Compute test accuracy based on best hyper-paramters\n",
    "    clf = KNeighborsClassifier(n_neighbors = Best_N)\n",
    "    clf.fit(X_train_val,Y_train_val)\n",
    "    test_acc = clf.score(X_test, Y_test)\n",
    "\n",
    "    return parameter, best_train_acc, best_val_acc, test_acc\n",
    "\n",
    "\n"
   ]
  },
  {
   "cell_type": "code",
   "execution_count": 19,
   "metadata": {
    "collapsed": true
   },
   "outputs": [],
   "source": [
    "# Function to run on three trails and get average training, validation, and test accuracy\n",
    "\n",
    "def KNN(Data,partition,K_list):\n",
    "    train_avg = 0\n",
    "    val_avg = 0\n",
    "    test_avg = 0\n",
    "\n",
    "    for i in range(3):\n",
    "        p, train_acc,val_acc, test_acc = runKNN(Data,partition,K_list)\n",
    "        best_p = p\n",
    "        train_avg = train_avg + train_acc\n",
    "        val_avg = val_avg + val_acc\n",
    "        test_avg = test_avg + test_acc\n",
    "\n",
    "        print(\"\\n\"+\"Trial \" + str(i+1))\n",
    "        print(\"Best parameter: \" + str(best_p))\n",
    "        print(\"train accuracy is: \" + str(train_acc))\n",
    "        print(\"val accuracy is: \" + str(val_acc))\n",
    "        print(\"test accuracy is: \" + str(test_acc))\n",
    "\n",
    "    train_avg_knn = train_avg/3\n",
    "    val_avg_knn = val_avg/3\n",
    "    test_avg_knn = test_avg/3\n",
    "\n",
    "    print(\"\\n\"+\"Average train accuracy is: \" + str(train_avg_knn))\n",
    "    print(\"Average val accuracy is: \" + str(val_avg_knn))\n",
    "    print(\"Average test accuracy is: \" + str(test_avg_knn))\n",
    "    \n",
    "    return train_avg_knn,val_avg_knn,test_avg_knn"
   ]
  },
  {
   "cell_type": "code",
   "execution_count": 20,
   "metadata": {
    "collapsed": true
   },
   "outputs": [],
   "source": [
    "# One function to run Adaboost classifier\n",
    "\n",
    "def runADB(Data,partition,learning_rate,n_estimator_list):\n",
    "    np.random.shuffle(Data)\n",
    "    X = Data[:, 0:-1]         # First column to second last column: Features (numerical values) \n",
    "    Y = Data[:, -1]           # Last column: Labels (-1 or 1)\n",
    "    X_train_val = X[:int(partition*len(X))] # Get features from train + val set.\n",
    "    X_test      = X[int(partition*len(X)):] # Get features from test set.     \n",
    "    Y_train_val = Y[:int(partition*len(Y))] # Get labels from train + val set.\n",
    "    Y_test     = Y[int(partition*len(Y)):] # Get labels from test set.\n",
    "\n",
    "  \n",
    "    Y_train_val = Y_train_val.astype('int')\n",
    "    Y_test = Y_test.astype('int')\n",
    "    \n",
    "    parameters = {'n_estimators': n_estimator_list,'learning_rate':learning_rate}\n",
    "    # Use GrideSearch for cross-validation for hyper paramters\n",
    "    \n",
    "    clf = AdaBoostClassifier()\n",
    "    classifier = GridSearchCV(clf, parameters,cv = 5, return_train_score = True)\n",
    "    classifier.fit(X_train_val,Y_train_val)\n",
    "    \n",
    "     # Compute test accuracy based on best hyper-paramters\n",
    "    train_acc =  classifier.cv_results_['mean_train_score']\n",
    "    best_train_acc = np.amax(train_acc) \n",
    "    \n",
    "    val_acc = classifier.cv_results_['mean_test_score']\n",
    "    best_val_acc = np.amax(val_acc)\n",
    "    \n",
    "    # Get the best paramters\n",
    "    Best_learning_rate = classifier.best_params_['learning_rate']\n",
    "    Best_n_estimators = classifier.best_params_['n_estimators']\n",
    "    parameter = classifier.best_params_\n",
    "    \n",
    "    clf = AdaBoostClassifier(learning_rate = Best_learning_rate , n_estimators = Best_n_estimators)\n",
    "    clf.fit(X_train_val,Y_train_val)\n",
    "    test_acc = clf.score(X_test, Y_test)\n",
    "    \n",
    "    return parameter, best_train_acc, best_val_acc, test_acc\n",
    "\n"
   ]
  },
  {
   "cell_type": "code",
   "execution_count": 21,
   "metadata": {
    "collapsed": true
   },
   "outputs": [],
   "source": [
    "# Function to run on three trails and get average training, validation, and test accuracy\n",
    "\n",
    "def ADB(Data,partition,learning_rate,n_estimator_list):\n",
    "    train_avg = 0\n",
    "    val_avg = 0\n",
    "    test_avg = 0\n",
    "\n",
    "    for i in range(3):\n",
    "        p, train_acc,val_acc, test_acc = runADB(Data,partition,learning_rate,n_estimator_list)\n",
    "        best_p = p\n",
    "        train_avg = train_avg + train_acc\n",
    "        val_avg = val_avg + val_acc\n",
    "        test_avg = test_avg + test_acc\n",
    "\n",
    "        print(\"\\n\"+\"Trial \" + str(i+1))\n",
    "        print(\"Best parameter: \" + str(best_p))\n",
    "        print(\"train accuracy is: \" + str(train_acc))\n",
    "        print(\"val accuracy is: \" + str(val_acc))\n",
    "        print(\"test accuracy is: \" + str(test_acc))\n",
    "\n",
    "    train_avg_adb = train_avg/3\n",
    "    val_avg_adb = val_avg/3\n",
    "    test_avg_adb = test_avg/3\n",
    "\n",
    "    print(\"\\n\"+\"Average train accuracy is: \" + str(train_avg_adb))\n",
    "    print(\"Average val accuracy is: \" + str(val_avg_adb))\n",
    "    print(\"Average test accuracy is: \" + str(test_avg_adb))\n",
    "    \n",
    "    return train_avg_adb,val_avg_adb,test_avg_adb"
   ]
  },
  {
   "cell_type": "code",
   "execution_count": 22,
   "metadata": {
    "collapsed": true
   },
   "outputs": [],
   "source": [
    "# One function to run Logistic Regression Classifier\n",
    "\n",
    "def runLOG(Data,partition,C_list):\n",
    "\n",
    "    np.random.shuffle(Data)\n",
    "\n",
    "    X = Data[:, 0:-1]         # First column to second last column: Features (numerical values) \n",
    "    Y = Data[:, -1]           # Last column: Labels (-1 or 1)\n",
    "    X_train_val = X[:int(partition*len(X))] # Get features from train + val set.\n",
    "    X_test      = X[int(partition*len(X)):] # Get features from test set.     \n",
    "    Y_train_val = Y[:int(partition*len(Y))] # Get labels from train + val set.\n",
    "    Y_test     = Y[int(partition*len(Y)):] # Get labels from test set.\n",
    "    \n",
    "    Y_train_val = Y_train_val.astype('int')\n",
    "    Y_test = Y_test.astype('int')\n",
    "\n",
    "    parameters = {'C':C_list}\n",
    "    clf = LogisticRegression()\n",
    "    \n",
    "    # Get best paramter by doing cross-validation through gridSearch\n",
    "    classifier = GridSearchCV(clf,parameters,cv=3, return_train_score = True)\n",
    "    classifier.fit(X_train_val,Y_train_val)\n",
    "\n",
    "    train_acc =  classifier.cv_results_['mean_train_score']\n",
    "    best_train_acc = np.amax(train_acc) \n",
    "    \n",
    "    val_acc = classifier.cv_results_['mean_test_score']\n",
    "    best_val_acc = np.amax(val_acc)\n",
    "\n",
    "    # Get the best paramters\n",
    "    Best_C = classifier.best_params_['C']\n",
    "    parameter = classifier.best_params_\n",
    "\n",
    "    # Compute test accuracy based on best hyper-paramters\n",
    "    clf = LogisticRegression(C = Best_C)\n",
    "    clf.fit(X_train_val,Y_train_val)\n",
    "    test_acc = clf.score(X_test, Y_test)\n",
    "\n",
    "    return parameter, best_train_acc, best_val_acc, test_acc"
   ]
  },
  {
   "cell_type": "code",
   "execution_count": 23,
   "metadata": {
    "collapsed": true
   },
   "outputs": [],
   "source": [
    "# Function to run on three trails and get average training, validation, and test accuracy\n",
    "\n",
    "def LOG(Data,partition,C_list):\n",
    "    train_avg = 0\n",
    "    val_avg = 0\n",
    "    test_avg = 0\n",
    "\n",
    "    for i in range(3):\n",
    "        p, train_acc,val_acc, test_acc = runLOG(Data,partition,C_list)\n",
    "        best_p = p\n",
    "        train_avg = train_avg + train_acc\n",
    "        val_avg = val_avg + val_acc\n",
    "        test_avg = test_avg + test_acc\n",
    "\n",
    "        print(\"\\n\"+\"Trial \" + str(i+1))\n",
    "        print(\"Best parameter: \" + str(best_p))\n",
    "        print(\"train accuracy is: \" + str(train_acc))\n",
    "        print(\"val accuracy is: \" + str(val_acc))\n",
    "        print(\"test accuracy is: \" + str(test_acc))\n",
    "\n",
    "    train_avg_log = train_avg/3\n",
    "    val_avg_log = val_avg/3\n",
    "    test_avg_log = test_avg/3\n",
    "\n",
    "    print(\"\\n\"+\"Average train accuracy is: \" + str(train_avg_log))\n",
    "    print(\"Average val accuracy is: \" + str(val_avg_log))\n",
    "    print(\"Average test accuracy is: \" + str(test_avg_log))\n",
    "    \n",
    "    return train_avg_log,val_avg_log,test_avg_log"
   ]
  },
  {
   "cell_type": "markdown",
   "metadata": {},
   "source": [
    "# DataSet 1: Wine Quality"
   ]
  },
  {
   "cell_type": "markdown",
   "metadata": {},
   "source": [
    "Classifier: SVM"
   ]
  },
  {
   "cell_type": "code",
   "execution_count": 54,
   "metadata": {},
   "outputs": [
    {
     "name": "stdout",
     "output_type": "stream",
     "text": [
      "\n",
      "Trial 1\n",
      "Best parameter: {'C': 10000, 'kernel': 'rbf'}\n",
      "train accuracy is: 0.880886999144\n",
      "val accuracy is: 0.733542319749\n",
      "test accuracy is: 0.7140625\n",
      "\n",
      "Trial 2\n",
      "Best parameter: {'C': 1000, 'kernel': 'rbf'}\n",
      "train accuracy is: 0.907438429436\n",
      "val accuracy is: 0.758620689655\n",
      "test accuracy is: 0.721875\n",
      "\n",
      "Trial 3\n",
      "Best parameter: {'C': 100000, 'kernel': 'linear'}\n",
      "train accuracy is: 0.891876800094\n",
      "val accuracy is: 0.739811912226\n",
      "test accuracy is: 0.73125\n",
      "\n",
      "Average train accuracy is: 0.893400742891\n",
      "Average val accuracy is: 0.743991640543\n",
      "Average test accuracy is: 0.722395833333\n"
     ]
    }
   ],
   "source": [
    "# Partition(20/80)\n",
    "C_list     = [10**(-3), 10**(-2), 10**(-1),10,10**2,10**3,10**4,10**5]\n",
    "train_avg_svm_20,val_avg_svm_20,test_avg_svm_20 = SVM(Data_1,0.2,C_list)\n"
   ]
  },
  {
   "cell_type": "code",
   "execution_count": 55,
   "metadata": {},
   "outputs": [
    {
     "name": "stdout",
     "output_type": "stream",
     "text": [
      "\n",
      "Trial 1\n",
      "Best parameter: {'C': 100, 'kernel': 'linear'}\n",
      "train accuracy is: 0.851685969144\n",
      "val accuracy is: 0.744680851064\n",
      "test accuracy is: 0.74125\n",
      "\n",
      "Trial 2\n",
      "Best parameter: {'C': 1000, 'kernel': 'linear'}\n",
      "train accuracy is: 0.848567243625\n",
      "val accuracy is: 0.764705882353\n",
      "test accuracy is: 0.72625\n",
      "\n",
      "Trial 3\n",
      "Best parameter: {'C': 1000, 'kernel': 'rbf'}\n",
      "train accuracy is: 0.851689495784\n",
      "val accuracy is: 0.770963704631\n",
      "test accuracy is: 0.72375\n",
      "\n",
      "Average train accuracy is: 0.850647569518\n",
      "Average val accuracy is: 0.760116812683\n",
      "Average test accuracy is: 0.730416666667\n"
     ]
    }
   ],
   "source": [
    "# Partition(50/50)\n",
    "C_list     = [10**(-3), 10**(-2), 10**(-1),10,10**2,10**3,10**4,10**5]\n",
    "train_avg_svm_50,val_avg_svm_50,test_avg_svm_50 = SVM(Data_1,0.5,C_list)"
   ]
  },
  {
   "cell_type": "code",
   "execution_count": 56,
   "metadata": {},
   "outputs": [
    {
     "name": "stdout",
     "output_type": "stream",
     "text": [
      "\n",
      "Trial 1\n",
      "Best parameter: {'C': 100000, 'kernel': 'rbf'}\n",
      "train accuracy is: 0.825260304999\n",
      "val accuracy is: 0.747458952306\n",
      "test accuracy is: 0.784375\n",
      "\n",
      "Trial 2\n",
      "Best parameter: {'C': 100, 'kernel': 'rbf'}\n",
      "train accuracy is: 0.819779494998\n",
      "val accuracy is: 0.754495699765\n",
      "test accuracy is: 0.734375\n",
      "\n",
      "Trial 3\n",
      "Best parameter: {'C': 10000, 'kernel': 'rbf'}\n",
      "train accuracy is: 0.816663184938\n",
      "val accuracy is: 0.749022673964\n",
      "test accuracy is: 0.76875\n",
      "\n",
      "Average train accuracy is: 0.820567661645\n",
      "Average val accuracy is: 0.750325775345\n",
      "Average test accuracy is: 0.7625\n"
     ]
    }
   ],
   "source": [
    "# Partition(80/20)\n",
    "C_list     = [10**(-3), 10**(-2), 10**(-1),10,10**2,10**3,10**4,10**5]\n",
    "train_avg_svm_80,val_avg_svm_80,test_avg_svm_80 = SVM(Data_1,0.8,C_list)"
   ]
  },
  {
   "cell_type": "markdown",
   "metadata": {},
   "source": [
    "Classifier: Random Forest"
   ]
  },
  {
   "cell_type": "code",
   "execution_count": 36,
   "metadata": {},
   "outputs": [
    {
     "name": "stdout",
     "output_type": "stream",
     "text": [
      "\n",
      "Trial 1\n",
      "Best parameter: {'criterion': 'gini', 'max_features': 7, 'n_estimators': 100}\n",
      "train accuracy is: 1.0\n",
      "val accuracy is: 0.764890282132\n",
      "test accuracy is: 0.75234375\n",
      "\n",
      "Trial 2\n",
      "Best parameter: {'criterion': 'entropy', 'max_features': 4, 'n_estimators': 100}\n",
      "train accuracy is: 1.0\n",
      "val accuracy is: 0.721003134796\n",
      "test accuracy is: 0.7625\n",
      "\n",
      "Trial 3\n",
      "Best parameter: {'criterion': 'gini', 'max_features': 3, 'n_estimators': 50}\n",
      "train accuracy is: 1.0\n",
      "val accuracy is: 0.796238244514\n",
      "test accuracy is: 0.7546875\n",
      "\n",
      "Average train accuracy is: 1.0\n",
      "Average val accuracy is: 0.760710553814\n",
      "Average test accuracy is: 0.756510416667\n"
     ]
    }
   ],
   "source": [
    "# Partition (20/80)\n",
    "n_estimator_list = [10,20,50,80,100]\n",
    "train_avg_rmf_20,val_avg_rmf_20,test_avg_rmf_20 = RMF(Data_1,0.2,n_estimator_list)"
   ]
  },
  {
   "cell_type": "code",
   "execution_count": 37,
   "metadata": {},
   "outputs": [
    {
     "name": "stdout",
     "output_type": "stream",
     "text": [
      "\n",
      "Trial 1\n",
      "Best parameter: {'criterion': 'gini', 'max_features': 1, 'n_estimators': 50}\n",
      "train accuracy is: 1.0\n",
      "val accuracy is: 0.789737171464\n",
      "test accuracy is: 0.78375\n",
      "\n",
      "Trial 2\n",
      "Best parameter: {'criterion': 'entropy', 'max_features': 5, 'n_estimators': 50}\n",
      "train accuracy is: 1.0\n",
      "val accuracy is: 0.788485607009\n",
      "test accuracy is: 0.78875\n",
      "\n",
      "Trial 3\n",
      "Best parameter: {'criterion': 'entropy', 'max_features': 3, 'n_estimators': 80}\n",
      "train accuracy is: 1.0\n",
      "val accuracy is: 0.793491864831\n",
      "test accuracy is: 0.77625\n",
      "\n",
      "Average train accuracy is: 1.0\n",
      "Average val accuracy is: 0.790571547768\n",
      "Average test accuracy is: 0.782916666667\n"
     ]
    }
   ],
   "source": [
    "# Partition (50/50)\n",
    "n_estimator_list = [10,20,50,80,100]\n",
    "train_avg_rmf_50,val_avg_rmf_50,test_avg_rmf_50 = RMF(Data_1,0.5,n_estimator_list)"
   ]
  },
  {
   "cell_type": "code",
   "execution_count": 38,
   "metadata": {},
   "outputs": [
    {
     "name": "stdout",
     "output_type": "stream",
     "text": [
      "\n",
      "Trial 1\n",
      "Best parameter: {'criterion': 'entropy', 'max_features': 3, 'n_estimators': 50}\n",
      "train accuracy is: 1.0\n",
      "val accuracy is: 0.817826426896\n",
      "test accuracy is: 0.784375\n",
      "\n",
      "Trial 2\n",
      "Best parameter: {'criterion': 'entropy', 'max_features': 7, 'n_estimators': 50}\n",
      "train accuracy is: 1.0\n",
      "val accuracy is: 0.792806880375\n",
      "test accuracy is: 0.8125\n",
      "\n",
      "Trial 3\n",
      "Best parameter: {'criterion': 'entropy', 'max_features': 2, 'n_estimators': 50}\n",
      "train accuracy is: 1.0\n",
      "val accuracy is: 0.802189210321\n",
      "test accuracy is: 0.790625\n",
      "\n",
      "Average train accuracy is: 1.0\n",
      "Average val accuracy is: 0.804274172531\n",
      "Average test accuracy is: 0.795833333333\n"
     ]
    }
   ],
   "source": [
    "# Partition (80/20)\n",
    "n_estimator_list = [10,20,50,80,100]\n",
    "train_avg_rmf_80,val_avg_rmf_80,test_avg_rmf_80 = RMF(Data_1,0.8,n_estimator_list)"
   ]
  },
  {
   "cell_type": "markdown",
   "metadata": {},
   "source": [
    "Classifer: KNN"
   ]
  },
  {
   "cell_type": "code",
   "execution_count": 39,
   "metadata": {},
   "outputs": [
    {
     "name": "stdout",
     "output_type": "stream",
     "text": [
      "\n",
      "Trial 1\n",
      "Best parameter: {'n_neighbors': 13}\n",
      "train accuracy is: 1.0\n",
      "val accuracy is: 0.752351097179\n",
      "test accuracy is: 0.7015625\n",
      "\n",
      "Trial 2\n",
      "Best parameter: {'n_neighbors': 20}\n",
      "train accuracy is: 1.0\n",
      "val accuracy is: 0.721003134796\n",
      "test accuracy is: 0.7125\n",
      "\n",
      "Trial 3\n",
      "Best parameter: {'n_neighbors': 14}\n",
      "train accuracy is: 1.0\n",
      "val accuracy is: 0.752351097179\n",
      "test accuracy is: 0.7265625\n",
      "\n",
      "Average train accuracy is: 1.0\n",
      "Average val accuracy is: 0.741901776385\n",
      "Average test accuracy is: 0.713541666667\n"
     ]
    }
   ],
   "source": [
    "# Partition (20/80)\n",
    "K_list = [1,2,3,4,5,6,7,8,9,10,11,12,13,14,15,20]\n",
    "train_avg_knn_20, val_avg_knn_20, test_avg_knn_20 = KNN(Data_1,0.2,K_list)"
   ]
  },
  {
   "cell_type": "code",
   "execution_count": 40,
   "metadata": {},
   "outputs": [
    {
     "name": "stdout",
     "output_type": "stream",
     "text": [
      "\n",
      "Trial 1\n",
      "Best parameter: {'n_neighbors': 13}\n",
      "train accuracy is: 1.0\n",
      "val accuracy is: 0.733416770964\n",
      "test accuracy is: 0.72875\n",
      "\n",
      "Trial 2\n",
      "Best parameter: {'n_neighbors': 11}\n",
      "train accuracy is: 1.0\n",
      "val accuracy is: 0.730913642053\n",
      "test accuracy is: 0.73625\n",
      "\n",
      "Trial 3\n",
      "Best parameter: {'n_neighbors': 3}\n",
      "train accuracy is: 1.0\n",
      "val accuracy is: 0.71464330413\n",
      "test accuracy is: 0.69125\n",
      "\n",
      "Average train accuracy is: 1.0\n",
      "Average val accuracy is: 0.726324572382\n",
      "Average test accuracy is: 0.71875\n"
     ]
    }
   ],
   "source": [
    "# Partition (50/50)\n",
    "K_list = [1,2,3,4,5,6,7,8,9,10,11,12,13,14,15,20]\n",
    "train_avg_knn_50, val_avg_knn_50, test_avg_knn_50 = KNN(Data_1,0.5,K_list)"
   ]
  },
  {
   "cell_type": "code",
   "execution_count": 41,
   "metadata": {},
   "outputs": [
    {
     "name": "stdout",
     "output_type": "stream",
     "text": [
      "\n",
      "Trial 1\n",
      "Best parameter: {'n_neighbors': 1}\n",
      "train accuracy is: 1.0\n",
      "val accuracy is: 0.74511336982\n",
      "test accuracy is: 0.771875\n",
      "\n",
      "Trial 2\n",
      "Best parameter: {'n_neighbors': 1}\n",
      "train accuracy is: 1.0\n",
      "val accuracy is: 0.740422204848\n",
      "test accuracy is: 0.7625\n",
      "\n",
      "Trial 3\n",
      "Best parameter: {'n_neighbors': 13}\n",
      "train accuracy is: 1.0\n",
      "val accuracy is: 0.739640344019\n",
      "test accuracy is: 0.725\n",
      "\n",
      "Average train accuracy is: 1.0\n",
      "Average val accuracy is: 0.741725306229\n",
      "Average test accuracy is: 0.753125\n"
     ]
    }
   ],
   "source": [
    "# Partition (80/20)\n",
    "K_list = [1,2,3,4,5,6,7,8,9,10,11,12,13,14,15,20]\n",
    "train_avg_knn_80, val_avg_knn_80, test_avg_knn_80 = KNN(Data_1,0.8,K_list)"
   ]
  },
  {
   "cell_type": "markdown",
   "metadata": {},
   "source": [
    "Classifier: AdaBoost"
   ]
  },
  {
   "cell_type": "code",
   "execution_count": 29,
   "metadata": {},
   "outputs": [
    {
     "name": "stdout",
     "output_type": "stream",
     "text": [
      "\n",
      "Trial 1\n",
      "Best parameter: {'learning_rate': 0.1, 'n_estimators': 50}\n",
      "train accuracy is: 0.98119169272\n",
      "val accuracy is: 0.777429467085\n",
      "test accuracy is: 0.73203125\n",
      "\n",
      "Trial 2\n",
      "Best parameter: {'learning_rate': 0.2, 'n_estimators': 50}\n",
      "train accuracy is: 0.983544730392\n",
      "val accuracy is: 0.708463949843\n",
      "test accuracy is: 0.71015625\n",
      "\n",
      "Trial 3\n",
      "Best parameter: {'learning_rate': 0.1, 'n_estimators': 80}\n",
      "train accuracy is: 0.956136425042\n",
      "val accuracy is: 0.733542319749\n",
      "test accuracy is: 0.72890625\n",
      "\n",
      "Average train accuracy is: 0.973624282718\n",
      "Average val accuracy is: 0.739811912226\n",
      "Average test accuracy is: 0.723697916667\n"
     ]
    }
   ],
   "source": [
    "# Partition (20/80)\n",
    "learning_rate = [0.1,0.2,0.5,0.8,1]\n",
    "n_estimator_list = [20,50,80,100]\n",
    "\n",
    "train_avg_adb_20, val_avg_adb_20, test_avg_adb_20 = ADB(Data_1,0.2,learning_rate,n_estimator_list)\n"
   ]
  },
  {
   "cell_type": "code",
   "execution_count": 30,
   "metadata": {},
   "outputs": [
    {
     "name": "stdout",
     "output_type": "stream",
     "text": [
      "\n",
      "Trial 1\n",
      "Best parameter: {'learning_rate': 0.1, 'n_estimators': 80}\n",
      "train accuracy is: 0.859510465571\n",
      "val accuracy is: 0.747183979975\n",
      "test accuracy is: 0.7575\n",
      "\n",
      "Trial 2\n",
      "Best parameter: {'learning_rate': 0.5, 'n_estimators': 80}\n",
      "train accuracy is: 0.862638399844\n",
      "val accuracy is: 0.760951188986\n",
      "test accuracy is: 0.7525\n",
      "\n",
      "Trial 3\n",
      "Best parameter: {'learning_rate': 0.2, 'n_estimators': 80}\n",
      "train accuracy is: 0.867324284001\n",
      "val accuracy is: 0.760951188986\n",
      "test accuracy is: 0.73875\n",
      "\n",
      "Average train accuracy is: 0.863157716472\n",
      "Average val accuracy is: 0.756362119316\n",
      "Average test accuracy is: 0.749583333333\n"
     ]
    }
   ],
   "source": [
    "# Partition (50/50)\n",
    "learning_rate = [0.1,0.2,0.5,0.8,1]\n",
    "n_estimator_list = [20,50,80,100]\n",
    "\n",
    "train_avg_adb_50, val_avg_adb_50, test_avg_adb_50 = ADB(Data_1,0.5,learning_rate,n_estimator_list)\n",
    "\n"
   ]
  },
  {
   "cell_type": "code",
   "execution_count": 58,
   "metadata": {},
   "outputs": [
    {
     "name": "stdout",
     "output_type": "stream",
     "text": [
      "\n",
      "Trial 1\n",
      "Best parameter: {'learning_rate': 0.1, 'n_estimators': 80}\n",
      "train accuracy is: 0.827404272055\n",
      "val accuracy is: 0.760750586396\n",
      "test accuracy is: 0.778125\n",
      "\n",
      "Trial 2\n",
      "Best parameter: {'learning_rate': 0.1, 'n_estimators': 50}\n",
      "train accuracy is: 0.837564463403\n",
      "val accuracy is: 0.75136825645\n",
      "test accuracy is: 0.765625\n",
      "\n",
      "Trial 3\n",
      "Best parameter: {'learning_rate': 1, 'n_estimators': 50}\n",
      "train accuracy is: 0.836782070117\n",
      "val accuracy is: 0.757623143081\n",
      "test accuracy is: 0.709375\n",
      "\n",
      "Average train accuracy is: 0.833916935192\n",
      "Average val accuracy is: 0.756580661976\n",
      "Average test accuracy is: 0.751041666667\n"
     ]
    }
   ],
   "source": [
    "# Partition (80/20)\n",
    "learning_rate = [0.1,0.2,0.5,0.8,1]\n",
    "n_estimator_list = [20,50,80,100]\n",
    "\n",
    "train_avg_adb_80, val_avg_adb_80, test_avg_adb_80 = ADB(Data_1,0.8,learning_rate,n_estimator_list)"
   ]
  },
  {
   "cell_type": "markdown",
   "metadata": {},
   "source": [
    "Classifier: Logistic Regression"
   ]
  },
  {
   "cell_type": "code",
   "execution_count": 62,
   "metadata": {},
   "outputs": [
    {
     "name": "stdout",
     "output_type": "stream",
     "text": [
      "\n",
      "Trial 1\n",
      "Best parameter: {'C': 10}\n",
      "train accuracy is: 0.761843884089\n",
      "val accuracy is: 0.683385579937\n",
      "test accuracy is: 0.72890625\n",
      "\n",
      "Trial 2\n",
      "Best parameter: {'C': 10}\n",
      "train accuracy is: 0.725735967166\n",
      "val accuracy is: 0.708463949843\n",
      "test accuracy is: 0.7421875\n",
      "\n",
      "Trial 3\n",
      "Best parameter: {'C': 100}\n",
      "train accuracy is: 0.739805710574\n",
      "val accuracy is: 0.689655172414\n",
      "test accuracy is: 0.740625\n",
      "\n",
      "Average train accuracy is: 0.742461853943\n",
      "Average val accuracy is: 0.693834900731\n",
      "Average test accuracy is: 0.737239583333\n"
     ]
    }
   ],
   "source": [
    "# Partition(20/80)\n",
    "C_list     = [10**(-3), 10**(-2), 10**(-1),10,10**2,10**3,10**4,10**5]\n",
    "train_avg_log_20,val_avg_log_20,test_avg_log_20 = LOG(Data_1,0.2,C_list)"
   ]
  },
  {
   "cell_type": "code",
   "execution_count": 63,
   "metadata": {},
   "outputs": [
    {
     "name": "stdout",
     "output_type": "stream",
     "text": [
      "\n",
      "Trial 1\n",
      "Best parameter: {'C': 10}\n",
      "train accuracy is: 0.753449054155\n",
      "val accuracy is: 0.738423028786\n",
      "test accuracy is: 0.745\n",
      "\n",
      "Trial 2\n",
      "Best parameter: {'C': 10}\n",
      "train accuracy is: 0.757823866783\n",
      "val accuracy is: 0.744680851064\n",
      "test accuracy is: 0.74\n",
      "\n",
      "Trial 3\n",
      "Best parameter: {'C': 10}\n",
      "train accuracy is: 0.759072306234\n",
      "val accuracy is: 0.747183979975\n",
      "test accuracy is: 0.735\n",
      "\n",
      "Average train accuracy is: 0.756781742391\n",
      "Average val accuracy is: 0.743429286608\n",
      "Average test accuracy is: 0.74\n"
     ]
    }
   ],
   "source": [
    "# Partition(50/80)\n",
    "C_list     = [10**(-3), 10**(-2), 10**(-1),10,10**2,10**3,10**4,10**5]\n",
    "train_avg_log_50,val_avg_log_50,test_avg_log_50 = LOG(Data_1,0.5,C_list)"
   ]
  },
  {
   "cell_type": "code",
   "execution_count": 65,
   "metadata": {},
   "outputs": [
    {
     "name": "stdout",
     "output_type": "stream",
     "text": [
      "\n",
      "Trial 1\n",
      "Best parameter: {'C': 10}\n",
      "train accuracy is: 0.741987443788\n",
      "val accuracy is: 0.734167318217\n",
      "test accuracy is: 0.790625\n",
      "\n",
      "Trial 2\n",
      "Best parameter: {'C': 10}\n",
      "train accuracy is: 0.744719915166\n",
      "val accuracy is: 0.72634870993\n",
      "test accuracy is: 0.784375\n",
      "\n",
      "Trial 3\n",
      "Best parameter: {'C': 10}\n",
      "train accuracy is: 0.749415668166\n",
      "val accuracy is: 0.748240813135\n",
      "test accuracy is: 0.746875\n",
      "\n",
      "Average train accuracy is: 0.745374342373\n",
      "Average val accuracy is: 0.736252280427\n",
      "Average test accuracy is: 0.773958333333\n"
     ]
    }
   ],
   "source": [
    "# Partition(80/20)\n",
    "C_list     = [10**(-3), 10**(-2), 10**(-1),10,10**2,10**3,10**4,10**5]\n",
    "train_avg_log_80,val_avg_log_80,test_avg_log_80 = LOG(Data_1,0.8,C_list)"
   ]
  },
  {
   "cell_type": "markdown",
   "metadata": {},
   "source": [
    "Plot visual representation for Dataset 1"
   ]
  },
  {
   "cell_type": "code",
   "execution_count": 74,
   "metadata": {},
   "outputs": [
    {
     "data": {
      "image/png": "[encoded data removed]",
      "text/plain": [
       "<matplotlib.figure.Figure at 0x1a1817b5c0>"
      ]
     },
     "metadata": {
      "image/png": {
       "height": 263,
       "width": 381
      }
     },
     "output_type": "display_data"
    }
   ],
   "source": [
    "test_svm_list = [test_avg_svm_20,test_avg_svm_50,test_avg_svm_80]\n",
    "test_rmf_list = [test_avg_rmf_20,test_avg_rmf_50,test_avg_rmf_80]\n",
    "test_knn_list = [test_avg_knn_20,test_avg_knn_50,test_avg_knn_80]\n",
    "test_adb_list = [test_avg_adb_20,test_avg_adb_50,test_avg_adb_80]\n",
    "test_log_list = [test_avg_log_20,test_avg_log_50,test_avg_log_80]\n",
    "\n",
    "x = ['(20/80)','(50/50)','(80/20)']\n",
    "plt.plot(x,test_svm_list, linestyle='--', marker='o', color='b', label='SVM')\n",
    "plt.plot(x,test_rmf_list, linestyle='--', marker='o', color='r', label='Random Forest')\n",
    "plt.plot(x,test_knn_list, linestyle='--', marker='o', color='y', label='KNN')\n",
    "plt.plot(x,test_adb_list, linestyle='--', marker='o', color='g', label='Adaboost')\n",
    "plt.plot(x,test_log_list, linestyle='--', marker='o', color='c', label='Logistic Regression')\n",
    "\n",
    "plt.legend()\n",
    "plt.title('Wine Quality - Test accuracy')\n",
    "plt.show()\n"
   ]
  },
  {
   "cell_type": "code",
   "execution_count": 75,
   "metadata": {},
   "outputs": [
    {
     "data": {
      "image/png": "[encoded data removed]",
      "text/plain": [
       "<matplotlib.figure.Figure at 0x1a18160438>"
      ]
     },
     "metadata": {
      "image/png": {
       "height": 263,
       "width": 381
      }
     },
     "output_type": "display_data"
    }
   ],
   "source": [
    "train_svm_list = [train_avg_svm_20,train_avg_svm_50,train_avg_svm_80]\n",
    "train_rmf_list = [train_avg_rmf_20,train_avg_rmf_50,train_avg_rmf_80]\n",
    "train_knn_list = [train_avg_knn_20,train_avg_knn_50,train_avg_knn_80]\n",
    "train_adb_list = [train_avg_adb_20,train_avg_adb_50,train_avg_adb_80]\n",
    "train_log_list = [train_avg_log_20,train_avg_log_50,train_avg_log_80]\n",
    "\n",
    "x = ['(20/80)','(50/50)','(80/20)']\n",
    "plt.plot(x,train_svm_list, linestyle='--', marker='o', color='b', label='SVM')\n",
    "plt.plot(x,train_rmf_list, linestyle='--', marker='o', color='r', label='Random Forest')\n",
    "plt.plot(x,train_knn_list, linestyle='--', marker='o', color='y', label='KNN')\n",
    "plt.plot(x,train_adb_list, linestyle='--', marker='o', color='g', label='Adaboost')\n",
    "plt.plot(x,train_log_list, linestyle='--', marker='o', color='c', label='Logistic Regression')\n",
    "\n",
    "plt.legend()\n",
    "plt.title('Wine Quality - train accuracy')\n",
    "plt.show()"
   ]
  },
  {
   "cell_type": "code",
   "execution_count": 76,
   "metadata": {},
   "outputs": [
    {
     "data": {
      "image/png": "[encoded data removed]",
      "text/plain": [
       "<matplotlib.figure.Figure at 0x1a17df93c8>"
      ]
     },
     "metadata": {
      "image/png": {
       "height": 263,
       "width": 381
      }
     },
     "output_type": "display_data"
    }
   ],
   "source": [
    "val_svm_list = [val_avg_svm_20,val_avg_svm_50,val_avg_svm_80]\n",
    "val_rmf_list = [val_avg_rmf_20,val_avg_rmf_50,val_avg_rmf_80]\n",
    "val_knn_list = [val_avg_knn_20,val_avg_knn_50,val_avg_knn_80]\n",
    "val_adb_list = [val_avg_adb_20,val_avg_adb_50,val_avg_adb_80]\n",
    "val_log_list = [val_avg_log_20,val_avg_log_50,val_avg_log_80]\n",
    "\n",
    "x = ['(20/80)','(50/50)','(80/20)']\n",
    "plt.plot(x,val_svm_list, linestyle='--', marker='o', color='b', label='SVM')\n",
    "plt.plot(x,val_rmf_list, linestyle='--', marker='o', color='r', label='Random Forest')\n",
    "plt.plot(x,val_knn_list, linestyle='--', marker='o', color='y', label='KNN')\n",
    "plt.plot(x,val_adb_list, linestyle='--', marker='o', color='g', label='Adaboost')\n",
    "plt.plot(x,val_log_list, linestyle='--', marker='o', color='c', label='Logistic Regression')\n",
    "\n",
    "plt.legend()\n",
    "plt.title('Wine Quality - val accuracy')\n",
    "plt.show()"
   ]
  },
  {
   "cell_type": "markdown",
   "metadata": {},
   "source": [
    "# DataSet 3: Iris Category"
   ]
  },
  {
   "cell_type": "markdown",
   "metadata": {},
   "source": [
    "Classifier: SVM"
   ]
  },
  {
   "cell_type": "code",
   "execution_count": 77,
   "metadata": {},
   "outputs": [
    {
     "name": "stdout",
     "output_type": "stream",
     "text": [
      "\n",
      "Trial 1\n",
      "Best parameter: {'C': 0.1, 'kernel': 'linear'}\n",
      "train accuracy is: 1.0\n",
      "val accuracy is: 1.0\n",
      "test accuracy is: 1.0\n",
      "\n",
      "Trial 2\n",
      "Best parameter: {'C': 0.01, 'kernel': 'linear'}\n",
      "train accuracy is: 1.0\n",
      "val accuracy is: 1.0\n",
      "test accuracy is: 0.991666666667\n",
      "\n",
      "Trial 3\n",
      "Best parameter: {'C': 0.1, 'kernel': 'linear'}\n",
      "train accuracy is: 1.0\n",
      "val accuracy is: 1.0\n",
      "test accuracy is: 1.0\n",
      "\n",
      "Average train accuracy is: 1.0\n",
      "Average val accuracy is: 1.0\n",
      "Average test accuracy is: 0.997222222222\n"
     ]
    }
   ],
   "source": [
    "# Partition(20/80)\n",
    "C_list     = [10**(-3), 10**(-2), 10**(-1),10,10**2,10**3,10**4,10**5]\n",
    "train_avg_svm_20_3,val_avg_svm_20_3,test_avg_svm_20_3 = SVM(Data_3,0.2,C_list)\n",
    "\n"
   ]
  },
  {
   "cell_type": "code",
   "execution_count": 78,
   "metadata": {},
   "outputs": [
    {
     "name": "stdout",
     "output_type": "stream",
     "text": [
      "\n",
      "Trial 1\n",
      "Best parameter: {'C': 0.01, 'kernel': 'linear'}\n",
      "train accuracy is: 1.0\n",
      "val accuracy is: 1.0\n",
      "test accuracy is: 1.0\n",
      "\n",
      "Trial 2\n",
      "Best parameter: {'C': 0.01, 'kernel': 'linear'}\n",
      "train accuracy is: 1.0\n",
      "val accuracy is: 1.0\n",
      "test accuracy is: 1.0\n",
      "\n",
      "Trial 3\n",
      "Best parameter: {'C': 0.01, 'kernel': 'linear'}\n",
      "train accuracy is: 1.0\n",
      "val accuracy is: 1.0\n",
      "test accuracy is: 1.0\n",
      "\n",
      "Average train accuracy is: 1.0\n",
      "Average val accuracy is: 1.0\n",
      "Average test accuracy is: 1.0\n"
     ]
    }
   ],
   "source": [
    "# Partition(50/50)\n",
    "C_list     = [10**(-3), 10**(-2), 10**(-1),10,10**2,10**3,10**4,10**5]\n",
    "train_avg_svm_50_3,val_avg_svm_50_3,test_avg_svm_50_3 = SVM(Data_3,0.5,C_list)\n",
    "\n"
   ]
  },
  {
   "cell_type": "code",
   "execution_count": 79,
   "metadata": {},
   "outputs": [
    {
     "name": "stdout",
     "output_type": "stream",
     "text": [
      "\n",
      "Trial 1\n",
      "Best parameter: {'C': 0.01, 'kernel': 'linear'}\n",
      "train accuracy is: 1.0\n",
      "val accuracy is: 1.0\n",
      "test accuracy is: 1.0\n",
      "\n",
      "Trial 2\n",
      "Best parameter: {'C': 0.01, 'kernel': 'linear'}\n",
      "train accuracy is: 1.0\n",
      "val accuracy is: 1.0\n",
      "test accuracy is: 1.0\n",
      "\n",
      "Trial 3\n",
      "Best parameter: {'C': 0.01, 'kernel': 'linear'}\n",
      "train accuracy is: 1.0\n",
      "val accuracy is: 1.0\n",
      "test accuracy is: 1.0\n",
      "\n",
      "Average train accuracy is: 1.0\n",
      "Average val accuracy is: 1.0\n",
      "Average test accuracy is: 1.0\n"
     ]
    }
   ],
   "source": [
    "# Partition(80/20)\n",
    "C_list     = [10**(-3), 10**(-2), 10**(-1),10,10**2,10**3,10**4,10**5]\n",
    "train_avg_svm_80_3,val_avg_svm_80_3,test_avg_svm_80_3 = SVM(Data_3,0.8,C_list)\n",
    "\n"
   ]
  },
  {
   "cell_type": "markdown",
   "metadata": {},
   "source": [
    "Classifier: Random Forest"
   ]
  },
  {
   "cell_type": "code",
   "execution_count": 80,
   "metadata": {},
   "outputs": [
    {
     "name": "stdout",
     "output_type": "stream",
     "text": [
      "\n",
      "Trial 1\n",
      "Best parameter: {'criterion': 'entropy', 'max_features': 1, 'n_estimators': 10}\n",
      "train accuracy is: 1.0\n",
      "val accuracy is: 1.0\n",
      "test accuracy is: 0.866666666667\n",
      "\n",
      "Trial 2\n",
      "Best parameter: {'criterion': 'entropy', 'max_features': 1, 'n_estimators': 20}\n",
      "train accuracy is: 1.0\n",
      "val accuracy is: 1.0\n",
      "test accuracy is: 1.0\n",
      "\n",
      "Trial 3\n",
      "Best parameter: {'criterion': 'entropy', 'max_features': 1, 'n_estimators': 20}\n",
      "train accuracy is: 1.0\n",
      "val accuracy is: 1.0\n",
      "test accuracy is: 1.0\n",
      "\n",
      "Average train accuracy is: 1.0\n",
      "Average val accuracy is: 1.0\n",
      "Average test accuracy is: 0.955555555556\n"
     ]
    }
   ],
   "source": [
    "# Partition (20/80)\n",
    "n_estimator_list = [10,20,50,80,100]\n",
    "train_avg_rmf_20_3,val_avg_rmf_20_3,test_avg_rmf_20_3 = RMF(Data_3,0.2,n_estimator_list)"
   ]
  },
  {
   "cell_type": "code",
   "execution_count": 81,
   "metadata": {},
   "outputs": [
    {
     "name": "stdout",
     "output_type": "stream",
     "text": [
      "\n",
      "Trial 1\n",
      "Best parameter: {'criterion': 'entropy', 'max_features': 1, 'n_estimators': 10}\n",
      "train accuracy is: 1.0\n",
      "val accuracy is: 1.0\n",
      "test accuracy is: 1.0\n",
      "\n",
      "Trial 2\n",
      "Best parameter: {'criterion': 'entropy', 'max_features': 1, 'n_estimators': 10}\n",
      "train accuracy is: 1.0\n",
      "val accuracy is: 1.0\n",
      "test accuracy is: 1.0\n",
      "\n",
      "Trial 3\n",
      "Best parameter: {'criterion': 'entropy', 'max_features': 1, 'n_estimators': 10}\n",
      "train accuracy is: 1.0\n",
      "val accuracy is: 1.0\n",
      "test accuracy is: 1.0\n",
      "\n",
      "Average train accuracy is: 1.0\n",
      "Average val accuracy is: 1.0\n",
      "Average test accuracy is: 1.0\n"
     ]
    }
   ],
   "source": [
    "# Partition (50/50)\n",
    "n_estimator_list = [10,20,50,80,100]\n",
    "train_avg_rmf_50_3,val_avg_rmf_50_3,test_avg_rmf_50_3 = RMF(Data_3,0.5,n_estimator_list)"
   ]
  },
  {
   "cell_type": "code",
   "execution_count": 82,
   "metadata": {},
   "outputs": [
    {
     "name": "stdout",
     "output_type": "stream",
     "text": [
      "\n",
      "Trial 1\n",
      "Best parameter: {'criterion': 'entropy', 'max_features': 1, 'n_estimators': 10}\n",
      "train accuracy is: 1.0\n",
      "val accuracy is: 1.0\n",
      "test accuracy is: 1.0\n",
      "\n",
      "Trial 2\n",
      "Best parameter: {'criterion': 'entropy', 'max_features': 1, 'n_estimators': 10}\n",
      "train accuracy is: 1.0\n",
      "val accuracy is: 1.0\n",
      "test accuracy is: 1.0\n",
      "\n",
      "Trial 3\n",
      "Best parameter: {'criterion': 'entropy', 'max_features': 1, 'n_estimators': 10}\n",
      "train accuracy is: 1.0\n",
      "val accuracy is: 1.0\n",
      "test accuracy is: 1.0\n",
      "\n",
      "Average train accuracy is: 1.0\n",
      "Average val accuracy is: 1.0\n",
      "Average test accuracy is: 1.0\n"
     ]
    }
   ],
   "source": [
    "# Partition (80/20)\n",
    "n_estimator_list = [10,20,50,80,100]\n",
    "train_avg_rmf_80_3,val_avg_rmf_80_3,test_avg_rmf_80_3 = RMF(Data_3,0.8,n_estimator_list)"
   ]
  },
  {
   "cell_type": "markdown",
   "metadata": {},
   "source": [
    "Classifier: KNN"
   ]
  },
  {
   "cell_type": "code",
   "execution_count": 83,
   "metadata": {},
   "outputs": [
    {
     "name": "stdout",
     "output_type": "stream",
     "text": [
      "\n",
      "Trial 1\n",
      "Best parameter: {'n_neighbors': 1}\n",
      "train accuracy is: 1.0\n",
      "val accuracy is: 1.0\n",
      "test accuracy is: 1.0\n",
      "\n",
      "Trial 2\n",
      "Best parameter: {'n_neighbors': 1}\n",
      "train accuracy is: 1.0\n",
      "val accuracy is: 1.0\n",
      "test accuracy is: 1.0\n",
      "\n",
      "Trial 3\n",
      "Best parameter: {'n_neighbors': 1}\n",
      "train accuracy is: 1.0\n",
      "val accuracy is: 1.0\n",
      "test accuracy is: 1.0\n",
      "\n",
      "Average train accuracy is: 1.0\n",
      "Average val accuracy is: 1.0\n",
      "Average test accuracy is: 1.0\n"
     ]
    }
   ],
   "source": [
    "# Partition (20/80)\n",
    "K_list = [1,2,3,4,5,6,7,8,9,10,11,12,13,14,15,20]\n",
    "train_avg_knn_20_3, val_avg_knn_20_3, test_avg_knn_20_3 = KNN(Data_3,0.2,K_list)"
   ]
  },
  {
   "cell_type": "code",
   "execution_count": 84,
   "metadata": {},
   "outputs": [
    {
     "name": "stdout",
     "output_type": "stream",
     "text": [
      "\n",
      "Trial 1\n",
      "Best parameter: {'n_neighbors': 1}\n",
      "train accuracy is: 1.0\n",
      "val accuracy is: 1.0\n",
      "test accuracy is: 1.0\n",
      "\n",
      "Trial 2\n",
      "Best parameter: {'n_neighbors': 1}\n",
      "train accuracy is: 1.0\n",
      "val accuracy is: 1.0\n",
      "test accuracy is: 1.0\n",
      "\n",
      "Trial 3\n",
      "Best parameter: {'n_neighbors': 1}\n",
      "train accuracy is: 1.0\n",
      "val accuracy is: 1.0\n",
      "test accuracy is: 1.0\n",
      "\n",
      "Average train accuracy is: 1.0\n",
      "Average val accuracy is: 1.0\n",
      "Average test accuracy is: 1.0\n"
     ]
    }
   ],
   "source": [
    "# Partition (50/50)\n",
    "K_list = [1,2,3,4,5,6,7,8,9,10,11,12,13,14,15,20]\n",
    "train_avg_knn_50_3, val_avg_knn_50_3, test_avg_knn_50_3 = KNN(Data_3,0.5,K_list)"
   ]
  },
  {
   "cell_type": "code",
   "execution_count": 85,
   "metadata": {},
   "outputs": [
    {
     "name": "stdout",
     "output_type": "stream",
     "text": [
      "\n",
      "Trial 1\n",
      "Best parameter: {'n_neighbors': 1}\n",
      "train accuracy is: 1.0\n",
      "val accuracy is: 1.0\n",
      "test accuracy is: 1.0\n",
      "\n",
      "Trial 2\n",
      "Best parameter: {'n_neighbors': 1}\n",
      "train accuracy is: 1.0\n",
      "val accuracy is: 1.0\n",
      "test accuracy is: 1.0\n",
      "\n",
      "Trial 3\n",
      "Best parameter: {'n_neighbors': 1}\n",
      "train accuracy is: 1.0\n",
      "val accuracy is: 1.0\n",
      "test accuracy is: 1.0\n",
      "\n",
      "Average train accuracy is: 1.0\n",
      "Average val accuracy is: 1.0\n",
      "Average test accuracy is: 1.0\n"
     ]
    }
   ],
   "source": [
    "# Partition (80/20)\n",
    "K_list = [1,2,3,4,5,6,7,8,9,10,11,12,13,14,15,20]\n",
    "train_avg_knn_80_3, val_avg_knn_80_3, test_avg_knn_80_3 = KNN(Data_3,0.8,K_list)"
   ]
  },
  {
   "cell_type": "markdown",
   "metadata": {},
   "source": [
    "Classifier: Adaboost"
   ]
  },
  {
   "cell_type": "code",
   "execution_count": 89,
   "metadata": {},
   "outputs": [
    {
     "name": "stdout",
     "output_type": "stream",
     "text": [
      "\n",
      "Trial 1\n",
      "Best parameter: {'learning_rate': 0.1, 'n_estimators': 20}\n",
      "train accuracy is: 1.0\n",
      "val accuracy is: 1.0\n",
      "test accuracy is: 1.0\n",
      "\n",
      "Trial 2\n",
      "Best parameter: {'learning_rate': 0.1, 'n_estimators': 20}\n",
      "train accuracy is: 1.0\n",
      "val accuracy is: 1.0\n",
      "test accuracy is: 1.0\n",
      "\n",
      "Trial 3\n",
      "Best parameter: {'learning_rate': 0.1, 'n_estimators': 20}\n",
      "train accuracy is: 1.0\n",
      "val accuracy is: 1.0\n",
      "test accuracy is: 1.0\n",
      "\n",
      "Average train accuracy is: 1.0\n",
      "Average val accuracy is: 1.0\n",
      "Average test accuracy is: 1.0\n"
     ]
    }
   ],
   "source": [
    "# Partition (20/80)\n",
    "learning_rate = [0.1,0.2,0.5,0.8,1]\n",
    "n_estimator_list = [20,50,80,100]\n",
    "\n",
    "train_avg_adb_20_3, val_avg_adb_20_3, test_avg_adb_20_3 = ADB(Data_3,0.2,learning_rate,n_estimator_list)"
   ]
  },
  {
   "cell_type": "code",
   "execution_count": 90,
   "metadata": {},
   "outputs": [
    {
     "name": "stdout",
     "output_type": "stream",
     "text": [
      "\n",
      "Trial 1\n",
      "Best parameter: {'learning_rate': 0.1, 'n_estimators': 20}\n",
      "train accuracy is: 1.0\n",
      "val accuracy is: 1.0\n",
      "test accuracy is: 1.0\n",
      "\n",
      "Trial 2\n",
      "Best parameter: {'learning_rate': 0.1, 'n_estimators': 20}\n",
      "train accuracy is: 1.0\n",
      "val accuracy is: 1.0\n",
      "test accuracy is: 1.0\n",
      "\n",
      "Trial 3\n",
      "Best parameter: {'learning_rate': 0.1, 'n_estimators': 20}\n",
      "train accuracy is: 1.0\n",
      "val accuracy is: 1.0\n",
      "test accuracy is: 1.0\n",
      "\n",
      "Average train accuracy is: 1.0\n",
      "Average val accuracy is: 1.0\n",
      "Average test accuracy is: 1.0\n"
     ]
    }
   ],
   "source": [
    "# Partition (50/50)\n",
    "learning_rate = [0.1,0.2,0.5,0.8,1]\n",
    "n_estimator_list = [20,50,80,100]\n",
    "\n",
    "train_avg_adb_50_3, val_avg_adb_50_3, test_avg_adb_50_3 = ADB(Data_3,0.5,learning_rate,n_estimator_list)"
   ]
  },
  {
   "cell_type": "code",
   "execution_count": 91,
   "metadata": {},
   "outputs": [
    {
     "name": "stdout",
     "output_type": "stream",
     "text": [
      "\n",
      "Trial 1\n",
      "Best parameter: {'learning_rate': 0.1, 'n_estimators': 20}\n",
      "train accuracy is: 1.0\n",
      "val accuracy is: 1.0\n",
      "test accuracy is: 1.0\n",
      "\n",
      "Trial 2\n",
      "Best parameter: {'learning_rate': 0.1, 'n_estimators': 20}\n",
      "train accuracy is: 1.0\n",
      "val accuracy is: 1.0\n",
      "test accuracy is: 1.0\n",
      "\n",
      "Trial 3\n",
      "Best parameter: {'learning_rate': 0.1, 'n_estimators': 20}\n",
      "train accuracy is: 1.0\n",
      "val accuracy is: 1.0\n",
      "test accuracy is: 1.0\n",
      "\n",
      "Average train accuracy is: 1.0\n",
      "Average val accuracy is: 1.0\n",
      "Average test accuracy is: 1.0\n"
     ]
    }
   ],
   "source": [
    "# Partition (80/20)\n",
    "learning_rate = [0.1,0.2,0.5,0.8,1]\n",
    "n_estimator_list = [20,50,80,100]\n",
    "\n",
    "train_avg_adb_80_3, val_avg_adb_80_3, test_avg_adb_80_3 = ADB(Data_3,0.8,learning_rate,n_estimator_list)"
   ]
  },
  {
   "cell_type": "markdown",
   "metadata": {},
   "source": [
    "Classifier: Logistic Regression"
   ]
  },
  {
   "cell_type": "code",
   "execution_count": 92,
   "metadata": {},
   "outputs": [
    {
     "name": "stdout",
     "output_type": "stream",
     "text": [
      "\n",
      "Trial 1\n",
      "Best parameter: {'C': 10}\n",
      "train accuracy is: 1.0\n",
      "val accuracy is: 1.0\n",
      "test accuracy is: 1.0\n",
      "\n",
      "Trial 2\n",
      "Best parameter: {'C': 0.1}\n",
      "train accuracy is: 1.0\n",
      "val accuracy is: 1.0\n",
      "test accuracy is: 1.0\n",
      "\n",
      "Trial 3\n",
      "Best parameter: {'C': 0.1}\n",
      "train accuracy is: 1.0\n",
      "val accuracy is: 1.0\n",
      "test accuracy is: 1.0\n",
      "\n",
      "Average train accuracy is: 1.0\n",
      "Average val accuracy is: 1.0\n",
      "Average test accuracy is: 1.0\n"
     ]
    }
   ],
   "source": [
    "# Partition(20/80)\n",
    "C_list     = [10**(-3), 10**(-2), 10**(-1),10,10**2,10**3,10**4,10**5]\n",
    "train_avg_log_20_3,val_avg_log_20_3,test_avg_log_20_3 = LOG(Data_3,0.2,C_list)"
   ]
  },
  {
   "cell_type": "code",
   "execution_count": 93,
   "metadata": {},
   "outputs": [
    {
     "name": "stdout",
     "output_type": "stream",
     "text": [
      "\n",
      "Trial 1\n",
      "Best parameter: {'C': 0.1}\n",
      "train accuracy is: 1.0\n",
      "val accuracy is: 1.0\n",
      "test accuracy is: 1.0\n",
      "\n",
      "Trial 2\n",
      "Best parameter: {'C': 0.1}\n",
      "train accuracy is: 1.0\n",
      "val accuracy is: 1.0\n",
      "test accuracy is: 1.0\n",
      "\n",
      "Trial 3\n",
      "Best parameter: {'C': 0.1}\n",
      "train accuracy is: 1.0\n",
      "val accuracy is: 1.0\n",
      "test accuracy is: 1.0\n",
      "\n",
      "Average train accuracy is: 1.0\n",
      "Average val accuracy is: 1.0\n",
      "Average test accuracy is: 1.0\n"
     ]
    }
   ],
   "source": [
    "# Partition(50/50)\n",
    "C_list     = [10**(-3), 10**(-2), 10**(-1),10,10**2,10**3,10**4,10**5]\n",
    "train_avg_log_50_3,val_avg_log_50_3,test_avg_log_50_3 = LOG(Data_3,0.5,C_list)"
   ]
  },
  {
   "cell_type": "code",
   "execution_count": 94,
   "metadata": {},
   "outputs": [
    {
     "name": "stdout",
     "output_type": "stream",
     "text": [
      "\n",
      "Trial 1\n",
      "Best parameter: {'C': 0.1}\n",
      "train accuracy is: 1.0\n",
      "val accuracy is: 1.0\n",
      "test accuracy is: 1.0\n",
      "\n",
      "Trial 2\n",
      "Best parameter: {'C': 0.1}\n",
      "train accuracy is: 1.0\n",
      "val accuracy is: 1.0\n",
      "test accuracy is: 1.0\n",
      "\n",
      "Trial 3\n",
      "Best parameter: {'C': 0.1}\n",
      "train accuracy is: 1.0\n",
      "val accuracy is: 1.0\n",
      "test accuracy is: 1.0\n",
      "\n",
      "Average train accuracy is: 1.0\n",
      "Average val accuracy is: 1.0\n",
      "Average test accuracy is: 1.0\n"
     ]
    }
   ],
   "source": [
    "# Partition(80/20)\n",
    "C_list     = [10**(-3), 10**(-2), 10**(-1),10,10**2,10**3,10**4,10**5]\n",
    "train_avg_log_80_3,val_avg_log_80_3,test_avg_log_80_3 = LOG(Data_3,0.8,C_list)"
   ]
  },
  {
   "cell_type": "markdown",
   "metadata": {},
   "source": [
    "Plot visual representation for Dataset 2"
   ]
  },
  {
   "cell_type": "code",
   "execution_count": 95,
   "metadata": {},
   "outputs": [
    {
     "data": {
      "image/png": "[encoded data removed]",
      "text/plain": [
       "<matplotlib.figure.Figure at 0x1a17bbb550>"
      ]
     },
     "metadata": {
      "image/png": {
       "height": 263,
       "width": 381
      }
     },
     "output_type": "display_data"
    }
   ],
   "source": [
    "test_svm_list_3 = [test_avg_svm_20_3,test_avg_svm_50_3,test_avg_svm_80_3]\n",
    "test_rmf_list_3 = [test_avg_rmf_20_3,test_avg_rmf_50_3,test_avg_rmf_80_3]\n",
    "test_knn_list_3 = [test_avg_knn_20_3,test_avg_knn_50_3,test_avg_knn_80_3]\n",
    "test_adb_list_3 = [test_avg_adb_20_3,test_avg_adb_50_3,test_avg_adb_80_3]\n",
    "test_log_list_3 = [test_avg_log_20_3,test_avg_log_50_3,test_avg_log_80_3]\n",
    "\n",
    "x = ['(20/80)','(50/50)','(80/20)']\n",
    "plt.plot(x,test_svm_list_3, linestyle='--', marker='o', color='b', label='SVM')\n",
    "plt.plot(x,test_rmf_list_3, linestyle='--', marker='o', color='r', label='Random Forest')\n",
    "plt.plot(x,test_knn_list_3, linestyle='--', marker='o', color='y', label='KNN')\n",
    "plt.plot(x,test_adb_list_3, linestyle='--', marker='o', color='g', label='Adaboost')\n",
    "plt.plot(x,test_log_list_3, linestyle='--', marker='o', color='c', label='Logistic Regression')\n",
    "\n",
    "plt.legend()\n",
    "plt.title('Iris - Test accuracy')\n",
    "plt.show()"
   ]
  },
  {
   "cell_type": "code",
   "execution_count": 96,
   "metadata": {},
   "outputs": [
    {
     "data": {
      "image/png": "[encoded data removed]",
      "text/plain": [
       "<matplotlib.figure.Figure at 0x1a0f463f60>"
      ]
     },
     "metadata": {
      "image/png": {
       "height": 263,
       "width": 381
      }
     },
     "output_type": "display_data"
    }
   ],
   "source": [
    "train_svm_list_3 = [train_avg_svm_20_3,train_avg_svm_50_3,train_avg_svm_80_3]\n",
    "train_rmf_list_3 = [train_avg_rmf_20_3,train_avg_rmf_50_3,train_avg_rmf_80_3]\n",
    "train_knn_list_3 = [train_avg_knn_20_3,train_avg_knn_50_3,train_avg_knn_80_3]\n",
    "train_adb_list_3 = [train_avg_adb_20_3,train_avg_adb_50_3,train_avg_adb_80_3]\n",
    "train_log_list_3 = [train_avg_log_20_3,train_avg_log_50_3,train_avg_log_80_3]\n",
    "\n",
    "x = ['(20/80)','(50/50)','(80/20)']\n",
    "plt.plot(x,train_svm_list_3, linestyle='--', marker='o', color='b', label='SVM')\n",
    "plt.plot(x,train_rmf_list_3, linestyle='--', marker='o', color='r', label='Random Forest')\n",
    "plt.plot(x,train_knn_list_3, linestyle='--', marker='o', color='y', label='KNN')\n",
    "plt.plot(x,train_adb_list_3, linestyle='--', marker='o', color='g', label='Adaboost')\n",
    "plt.plot(x,train_log_list_3, linestyle='--', marker='o', color='c', label='Logistic Regression')\n",
    "\n",
    "plt.legend()\n",
    "plt.title('Iris - Train accuracy')\n",
    "plt.show()"
   ]
  },
  {
   "cell_type": "code",
   "execution_count": 97,
   "metadata": {},
   "outputs": [
    {
     "data": {
      "image/png": "[encoded data removed]",
      "text/plain": [
       "<matplotlib.figure.Figure at 0x1a0f463d68>"
      ]
     },
     "metadata": {
      "image/png": {
       "height": 263,
       "width": 381
      }
     },
     "output_type": "display_data"
    }
   ],
   "source": [
    "val_svm_list_3 = [val_avg_svm_20_3,val_avg_svm_50_3,val_avg_svm_80_3]\n",
    "val_rmf_list_3 = [val_avg_rmf_20_3,val_avg_rmf_50_3,val_avg_rmf_80_3]\n",
    "val_knn_list_3 = [val_avg_knn_20_3,val_avg_knn_50_3,val_avg_knn_80_3]\n",
    "val_adb_list_3 = [val_avg_adb_20_3,val_avg_adb_50_3,val_avg_adb_80_3]\n",
    "val_log_list_3 = [val_avg_log_20_3,val_avg_log_50_3,val_avg_log_80_3]\n",
    "\n",
    "x = ['(20/80)','(50/50)','(80/20)']\n",
    "plt.plot(x,val_svm_list_3, linestyle='--', marker='o', color='b', label='SVM')\n",
    "plt.plot(x,val_rmf_list_3, linestyle='--', marker='o', color='r', label='Random Forest')\n",
    "plt.plot(x,val_knn_list_3, linestyle='--', marker='o', color='y', label='KNN')\n",
    "plt.plot(x,val_adb_list_3, linestyle='--', marker='o', color='g', label='Adaboost')\n",
    "plt.plot(x,val_log_list_3, linestyle='--', marker='o', color='c', label='Logistic Regression')\n",
    "\n",
    "plt.legend()\n",
    "plt.title('Iris - Val accuracy')\n",
    "plt.show()"
   ]
  },
  {
   "cell_type": "markdown",
   "metadata": {
    "collapsed": true
   },
   "source": [
    "# Dataset 4: Car Evaluation"
   ]
  },
  {
   "cell_type": "markdown",
   "metadata": {},
   "source": [
    "Classifier: SVM"
   ]
  },
  {
   "cell_type": "code",
   "execution_count": 98,
   "metadata": {},
   "outputs": [
    {
     "name": "stdout",
     "output_type": "stream",
     "text": [
      "\n",
      "Trial 1\n",
      "Best parameter: {'C': 1000, 'kernel': 'linear'}\n",
      "train accuracy is: 1.0\n",
      "val accuracy is: 0.973913043478\n",
      "test accuracy is: 0.957308248915\n",
      "\n",
      "Trial 2\n",
      "Best parameter: {'C': 100, 'kernel': 'rbf'}\n",
      "train accuracy is: 1.0\n",
      "val accuracy is: 0.959420289855\n",
      "test accuracy is: 0.967438494935\n",
      "\n",
      "Trial 3\n",
      "Best parameter: {'C': 100, 'kernel': 'rbf'}\n",
      "train accuracy is: 1.0\n",
      "val accuracy is: 0.971014492754\n",
      "test accuracy is: 0.966714905933\n",
      "\n",
      "Average train accuracy is: 1.0\n",
      "Average val accuracy is: 0.968115942029\n",
      "Average test accuracy is: 0.963820549928\n"
     ]
    }
   ],
   "source": [
    "# Partition(20/80)\n",
    "C_list     = [10**(-3), 10**(-2), 10**(-1),10,10**2,10**3,10**4,10**5]\n",
    "train_avg_svm_20_4,val_avg_svm_20_4,test_avg_svm_20_4 = SVM(Data_4,0.2,C_list)"
   ]
  },
  {
   "cell_type": "code",
   "execution_count": 114,
   "metadata": {},
   "outputs": [
    {
     "name": "stdout",
     "output_type": "stream",
     "text": [
      "\n",
      "Trial 1\n",
      "Best parameter: {'C': 100, 'kernel': 'rbf'}\n",
      "train accuracy is: 1.0\n",
      "val accuracy is: 0.972190034762\n",
      "test accuracy is: 0.99537037037\n",
      "\n",
      "Trial 2\n",
      "Best parameter: {'C': 100, 'kernel': 'rbf'}\n",
      "train accuracy is: 1.0\n",
      "val accuracy is: 0.979142526072\n",
      "test accuracy is: 0.996527777778\n",
      "\n",
      "Trial 3\n",
      "Best parameter: {'C': 10, 'kernel': 'rbf'}\n",
      "train accuracy is: 1.0\n",
      "val accuracy is: 0.983777520278\n",
      "test accuracy is: 0.988425925926\n",
      "\n",
      "Average train accuracy is: 1.0\n",
      "Average val accuracy is: 0.978370027037\n",
      "Average test accuracy is: 0.993441358025\n"
     ]
    }
   ],
   "source": [
    "# Partition(50/50)\n",
    "C_list     = [10**(-3), 10**(-2), 10**(-1),10,10**2,10**3,10**4,10**5]\n",
    "train_avg_svm_50_4,val_avg_svm_50_4,test_avg_svm_50_4 = SVM(Data_4,0.5,C_list)"
   ]
  },
  {
   "cell_type": "code",
   "execution_count": 100,
   "metadata": {},
   "outputs": [
    {
     "name": "stdout",
     "output_type": "stream",
     "text": [
      "\n",
      "Trial 1\n",
      "Best parameter: {'C': 100, 'kernel': 'rbf'}\n",
      "train accuracy is: 1.0\n",
      "val accuracy is: 0.994931209269\n",
      "test accuracy is: 1.0\n",
      "\n",
      "Trial 2\n",
      "Best parameter: {'C': 100, 'kernel': 'rbf'}\n",
      "train accuracy is: 1.0\n",
      "val accuracy is: 0.996379435192\n",
      "test accuracy is: 0.994219653179\n",
      "\n",
      "Trial 3\n",
      "Best parameter: {'C': 100, 'kernel': 'rbf'}\n",
      "train accuracy is: 1.0\n",
      "val accuracy is: 0.986241853729\n",
      "test accuracy is: 0.99710982659\n",
      "\n",
      "Average train accuracy is: 1.0\n",
      "Average val accuracy is: 0.992517499397\n",
      "Average test accuracy is: 0.99710982659\n"
     ]
    }
   ],
   "source": [
    "# Partition(80/20)\n",
    "C_list     = [10**(-3), 10**(-2), 10**(-1),10,10**2,10**3,10**4,10**5]\n",
    "train_avg_svm_80_4,val_avg_svm_80_4,test_avg_svm_80_4 = SVM(Data_4,0.8,C_list)"
   ]
  },
  {
   "cell_type": "markdown",
   "metadata": {},
   "source": [
    "Classifier: Random Forest"
   ]
  },
  {
   "cell_type": "code",
   "execution_count": 101,
   "metadata": {},
   "outputs": [
    {
     "name": "stdout",
     "output_type": "stream",
     "text": [
      "\n",
      "Trial 1\n",
      "Best parameter: {'criterion': 'entropy', 'max_features': 9, 'n_estimators': 50}\n",
      "train accuracy is: 1.0\n",
      "val accuracy is: 0.979710144928\n",
      "test accuracy is: 0.971056439942\n",
      "\n",
      "Trial 2\n",
      "Best parameter: {'criterion': 'entropy', 'max_features': 7, 'n_estimators': 20}\n",
      "train accuracy is: 1.0\n",
      "val accuracy is: 0.973913043478\n",
      "test accuracy is: 0.981186685962\n",
      "\n",
      "Trial 3\n",
      "Best parameter: {'criterion': 'entropy', 'max_features': 5, 'n_estimators': 80}\n",
      "train accuracy is: 1.0\n",
      "val accuracy is: 0.973913043478\n",
      "test accuracy is: 0.970332850941\n",
      "\n",
      "Average train accuracy is: 1.0\n",
      "Average val accuracy is: 0.975845410628\n",
      "Average test accuracy is: 0.974191992282\n"
     ]
    }
   ],
   "source": [
    "# Partition (20/80)\n",
    "n_estimator_list = [10,20,50,80,100]\n",
    "train_avg_rmf_20_4,val_avg_rmf_20_4,test_avg_rmf_20_4 = RMF(Data_4,0.2,n_estimator_list)"
   ]
  },
  {
   "cell_type": "code",
   "execution_count": 102,
   "metadata": {},
   "outputs": [
    {
     "name": "stdout",
     "output_type": "stream",
     "text": [
      "\n",
      "Trial 1\n",
      "Best parameter: {'criterion': 'entropy', 'max_features': 14, 'n_estimators': 50}\n",
      "train accuracy is: 1.0\n",
      "val accuracy is: 0.980301274623\n",
      "test accuracy is: 0.993055555556\n",
      "\n",
      "Trial 2\n",
      "Best parameter: {'criterion': 'gini', 'max_features': 7, 'n_estimators': 20}\n",
      "train accuracy is: 1.0\n",
      "val accuracy is: 0.993047508691\n",
      "test accuracy is: 0.982638888889\n",
      "\n",
      "Trial 3\n",
      "Best parameter: {'criterion': 'entropy', 'max_features': 7, 'n_estimators': 80}\n",
      "train accuracy is: 1.0\n",
      "val accuracy is: 0.983777520278\n",
      "test accuracy is: 0.981481481481\n",
      "\n",
      "Average train accuracy is: 1.0\n",
      "Average val accuracy is: 0.985708767864\n",
      "Average test accuracy is: 0.985725308642\n"
     ]
    }
   ],
   "source": [
    "# Partition (50/80)\n",
    "n_estimator_list = [10,20,50,80,100]\n",
    "train_avg_rmf_50_4,val_avg_rmf_50_4,test_avg_rmf_50_4 = RMF(Data_4,0.5,n_estimator_list)"
   ]
  },
  {
   "cell_type": "code",
   "execution_count": 103,
   "metadata": {},
   "outputs": [
    {
     "name": "stdout",
     "output_type": "stream",
     "text": [
      "\n",
      "Trial 1\n",
      "Best parameter: {'criterion': 'entropy', 'max_features': 14, 'n_estimators': 10}\n",
      "train accuracy is: 1.0\n",
      "val accuracy is: 0.985517740768\n",
      "test accuracy is: 0.991329479769\n",
      "\n",
      "Trial 2\n",
      "Best parameter: {'criterion': 'entropy', 'max_features': 9, 'n_estimators': 20}\n",
      "train accuracy is: 1.0\n",
      "val accuracy is: 0.988414192614\n",
      "test accuracy is: 0.99710982659\n",
      "\n",
      "Trial 3\n",
      "Best parameter: {'criterion': 'entropy', 'max_features': 15, 'n_estimators': 100}\n",
      "train accuracy is: 1.0\n",
      "val accuracy is: 0.987690079652\n",
      "test accuracy is: 0.991329479769\n",
      "\n",
      "Average train accuracy is: 1.0\n",
      "Average val accuracy is: 0.987207337678\n",
      "Average test accuracy is: 0.993256262042\n"
     ]
    }
   ],
   "source": [
    "# Partition (80/20)\n",
    "n_estimator_list = [10,20,50,80,100]\n",
    "train_avg_rmf_80_4,val_avg_rmf_80_4,test_avg_rmf_80_4 = RMF(Data_4,0.8,n_estimator_list)"
   ]
  },
  {
   "cell_type": "code",
   "execution_count": 69,
   "metadata": {},
   "outputs": [
    {
     "name": "stdout",
     "output_type": "stream",
     "text": [
      "The best paramters: {'C': 0.5, 'kernel': 'linear'}\n",
      "Train_acc is:0.972482425492\n",
      "Val_acc is:0.95652173913\n",
      "Trial 1 test accuracy is: 0.953690303907\n",
      "The best paramters: {'C': 2, 'kernel': 'linear'}\n",
      "Train_acc is:0.960869565217\n",
      "Val_acc is:0.953623188406\n",
      "Trial 2 test accuracy is: 0.955861070912\n",
      "The best paramters: {'C': 0.5, 'kernel': 'linear'}\n",
      "Train_acc is:0.969539628568\n",
      "Val_acc is:0.953623188406\n",
      "Trial 3 test accuracy is: 0.9500723589\n"
     ]
    }
   ],
   "source": [
    "# Partition (20/80)\n",
    "# Run SVM Classifier three times\n",
    "for i in range(3):\n",
    "    test_acc = runSVM(Data_4,0.2)\n",
    "    print(\"Trial \" + str(i+1) + \" \" + \"test accuracy is: \" + str(test_acc))"
   ]
  },
  {
   "cell_type": "markdown",
   "metadata": {},
   "source": [
    "Classifier: KNN"
   ]
  },
  {
   "cell_type": "code",
   "execution_count": 104,
   "metadata": {},
   "outputs": [
    {
     "name": "stdout",
     "output_type": "stream",
     "text": [
      "\n",
      "Trial 1\n",
      "Best parameter: {'n_neighbors': 5}\n",
      "train accuracy is: 1.0\n",
      "val accuracy is: 0.947826086957\n",
      "test accuracy is: 0.936324167873\n",
      "\n",
      "Trial 2\n",
      "Best parameter: {'n_neighbors': 7}\n",
      "train accuracy is: 1.0\n",
      "val accuracy is: 0.930434782609\n",
      "test accuracy is: 0.928364688857\n",
      "\n",
      "Trial 3\n",
      "Best parameter: {'n_neighbors': 7}\n",
      "train accuracy is: 1.0\n",
      "val accuracy is: 0.927536231884\n",
      "test accuracy is: 0.934153400868\n",
      "\n",
      "Average train accuracy is: 1.0\n",
      "Average val accuracy is: 0.935265700483\n",
      "Average test accuracy is: 0.932947419199\n"
     ]
    }
   ],
   "source": [
    "# Partition (20/80)\n",
    "K_list = [1,2,3,4,5,6,7,8,9,10,11,12,13,14,15,20]\n",
    "train_avg_knn_20_4, val_avg_knn_20_4, test_avg_knn_20_4 = KNN(Data_4,0.2,K_list)"
   ]
  },
  {
   "cell_type": "code",
   "execution_count": 105,
   "metadata": {},
   "outputs": [
    {
     "name": "stdout",
     "output_type": "stream",
     "text": [
      "\n",
      "Trial 1\n",
      "Best parameter: {'n_neighbors': 3}\n",
      "train accuracy is: 1.0\n",
      "val accuracy is: 0.942062572422\n",
      "test accuracy is: 0.944444444444\n",
      "\n",
      "Trial 2\n",
      "Best parameter: {'n_neighbors': 5}\n",
      "train accuracy is: 1.0\n",
      "val accuracy is: 0.939745075319\n",
      "test accuracy is: 0.951388888889\n",
      "\n",
      "Trial 3\n",
      "Best parameter: {'n_neighbors': 3}\n",
      "train accuracy is: 1.0\n",
      "val accuracy is: 0.946697566628\n",
      "test accuracy is: 0.924768518519\n",
      "\n",
      "Average train accuracy is: 1.0\n",
      "Average val accuracy is: 0.942835071456\n",
      "Average test accuracy is: 0.940200617284\n"
     ]
    }
   ],
   "source": [
    "# Partition (50/50)\n",
    "K_list = [1,2,3,4,5,6,7,8,9,10,11,12,13,14,15,20]\n",
    "train_avg_knn_50_4, val_avg_knn_50_4, test_avg_knn_50_4 = KNN(Data_4,0.5,K_list)"
   ]
  },
  {
   "cell_type": "code",
   "execution_count": 106,
   "metadata": {},
   "outputs": [
    {
     "name": "stdout",
     "output_type": "stream",
     "text": [
      "\n",
      "Trial 1\n",
      "Best parameter: {'n_neighbors': 1}\n",
      "train accuracy is: 1.0\n",
      "val accuracy is: 0.956553222303\n",
      "test accuracy is: 0.939306358382\n",
      "\n",
      "Trial 2\n",
      "Best parameter: {'n_neighbors': 5}\n",
      "train accuracy is: 1.0\n",
      "val accuracy is: 0.955829109341\n",
      "test accuracy is: 0.933526011561\n",
      "\n",
      "Trial 3\n",
      "Best parameter: {'n_neighbors': 1}\n",
      "train accuracy is: 1.0\n",
      "val accuracy is: 0.947139753802\n",
      "test accuracy is: 0.956647398844\n",
      "\n",
      "Average train accuracy is: 1.0\n",
      "Average val accuracy is: 0.953174028482\n",
      "Average test accuracy is: 0.943159922929\n"
     ]
    }
   ],
   "source": [
    "# Partition (80/20)\n",
    "K_list = [1,2,3,4,5,6,7,8,9,10,11,12,13,14,15,20]\n",
    "train_avg_knn_80_4, val_avg_knn_80_4, test_avg_knn_80_4 = KNN(Data_4,0.8,K_list)"
   ]
  },
  {
   "cell_type": "markdown",
   "metadata": {},
   "source": [
    "Classifier: Adaboost"
   ]
  },
  {
   "cell_type": "code",
   "execution_count": 107,
   "metadata": {},
   "outputs": [
    {
     "name": "stdout",
     "output_type": "stream",
     "text": [
      "\n",
      "Trial 1\n",
      "Best parameter: {'learning_rate': 1, 'n_estimators': 80}\n",
      "train accuracy is: 1.0\n",
      "val accuracy is: 0.985507246377\n",
      "test accuracy is: 0.986975397974\n",
      "\n",
      "Trial 2\n",
      "Best parameter: {'learning_rate': 0.5, 'n_estimators': 20}\n",
      "train accuracy is: 0.996376811594\n",
      "val accuracy is: 0.973913043478\n",
      "test accuracy is: 0.978292329957\n",
      "\n",
      "Trial 3\n",
      "Best parameter: {'learning_rate': 0.8, 'n_estimators': 20}\n",
      "train accuracy is: 0.995652135862\n",
      "val accuracy is: 0.976811594203\n",
      "test accuracy is: 0.980463096961\n",
      "\n",
      "Average train accuracy is: 0.997342982485\n",
      "Average val accuracy is: 0.978743961353\n",
      "Average test accuracy is: 0.981910274964\n"
     ]
    }
   ],
   "source": [
    "# Partition (20/80)\n",
    "learning_rate = [0.1,0.2,0.5,0.8,1]\n",
    "n_estimator_list = [20,50,80,100]\n",
    "\n",
    "train_avg_adb_20_4, val_avg_adb_20_4, test_avg_adb_20_4 = ADB(Data_4,0.2,learning_rate,n_estimator_list)"
   ]
  },
  {
   "cell_type": "code",
   "execution_count": 108,
   "metadata": {},
   "outputs": [
    {
     "name": "stdout",
     "output_type": "stream",
     "text": [
      "\n",
      "Trial 1\n",
      "Best parameter: {'learning_rate': 0.8, 'n_estimators': 20}\n",
      "train accuracy is: 0.991019097203\n",
      "val accuracy is: 0.982618771727\n",
      "test accuracy is: 0.986111111111\n",
      "\n",
      "Trial 2\n",
      "Best parameter: {'learning_rate': 0.5, 'n_estimators': 20}\n",
      "train accuracy is: 0.993048508271\n",
      "val accuracy is: 0.981460023175\n",
      "test accuracy is: 0.987268518519\n",
      "\n",
      "Trial 3\n",
      "Best parameter: {'learning_rate': 0.8, 'n_estimators': 80}\n",
      "train accuracy is: 0.99188908436\n",
      "val accuracy is: 0.987253765933\n",
      "test accuracy is: 0.984953703704\n",
      "\n",
      "Average train accuracy is: 0.991985563278\n",
      "Average val accuracy is: 0.983777520278\n",
      "Average test accuracy is: 0.986111111111\n"
     ]
    }
   ],
   "source": [
    "# Partition (50/50)\n",
    "learning_rate = [0.1,0.2,0.5,0.8,1]\n",
    "n_estimator_list = [20,50,80,100]\n",
    "\n",
    "train_avg_adb_50_4, val_avg_adb_50_4, test_avg_adb_50_4 = ADB(Data_4,0.5,learning_rate,n_estimator_list)"
   ]
  },
  {
   "cell_type": "code",
   "execution_count": 109,
   "metadata": {},
   "outputs": [
    {
     "name": "stdout",
     "output_type": "stream",
     "text": [
      "\n",
      "Trial 1\n",
      "Best parameter: {'learning_rate': 0.5, 'n_estimators': 100}\n",
      "train accuracy is: 0.991310249852\n",
      "val accuracy is: 0.986241853729\n",
      "test accuracy is: 0.994219653179\n",
      "\n",
      "Trial 2\n",
      "Best parameter: {'learning_rate': 0.5, 'n_estimators': 100}\n",
      "train accuracy is: 0.992939864909\n",
      "val accuracy is: 0.990586531499\n",
      "test accuracy is: 0.985549132948\n",
      "\n",
      "Trial 3\n",
      "Best parameter: {'learning_rate': 0.5, 'n_estimators': 80}\n",
      "train accuracy is: 0.990948255938\n",
      "val accuracy is: 0.990586531499\n",
      "test accuracy is: 0.991329479769\n",
      "\n",
      "Average train accuracy is: 0.991732790233\n",
      "Average val accuracy is: 0.989138305576\n",
      "Average test accuracy is: 0.990366088632\n"
     ]
    }
   ],
   "source": [
    "# Partition (80/20)\n",
    "learning_rate = [0.1,0.2,0.5,0.8,1]\n",
    "n_estimator_list = [20,50,80,100]\n",
    "\n",
    "train_avg_adb_80_4, val_avg_adb_80_4, test_avg_adb_80_4 = ADB(Data_4,0.8,learning_rate,n_estimator_list)"
   ]
  },
  {
   "cell_type": "markdown",
   "metadata": {},
   "source": [
    "Classifier: Logistic Regression"
   ]
  },
  {
   "cell_type": "code",
   "execution_count": 110,
   "metadata": {},
   "outputs": [
    {
     "name": "stdout",
     "output_type": "stream",
     "text": [
      "\n",
      "Trial 1\n",
      "Best parameter: {'C': 10}\n",
      "train accuracy is: 0.973906440795\n",
      "val accuracy is: 0.947826086957\n",
      "test accuracy is: 0.968162083936\n",
      "\n",
      "Trial 2\n",
      "Best parameter: {'C': 100}\n",
      "train accuracy is: 0.966641023049\n",
      "val accuracy is: 0.944927536232\n",
      "test accuracy is: 0.960926193922\n",
      "\n",
      "Trial 3\n",
      "Best parameter: {'C': 10}\n",
      "train accuracy is: 0.978266869514\n",
      "val accuracy is: 0.947826086957\n",
      "test accuracy is: 0.956584659913\n",
      "\n",
      "Average train accuracy is: 0.972938111119\n",
      "Average val accuracy is: 0.946859903382\n",
      "Average test accuracy is: 0.961890979257\n"
     ]
    }
   ],
   "source": [
    "# Partition(20/80)\n",
    "C_list     = [10**(-3), 10**(-2), 10**(-1),10,10**2,10**3,10**4,10**5]\n",
    "train_avg_log_20_4,val_avg_log_20_4,test_avg_log_20_4 = LOG(Data_4,0.2,C_list)"
   ]
  },
  {
   "cell_type": "code",
   "execution_count": 111,
   "metadata": {},
   "outputs": [
    {
     "name": "stdout",
     "output_type": "stream",
     "text": [
      "\n",
      "Trial 1\n",
      "Best parameter: {'C': 10}\n",
      "train accuracy is: 0.9611804749\n",
      "val accuracy is: 0.960602549247\n",
      "test accuracy is: 0.969907407407\n",
      "\n",
      "Trial 2\n",
      "Best parameter: {'C': 100}\n",
      "train accuracy is: 0.972189959995\n",
      "val accuracy is: 0.966396292005\n",
      "test accuracy is: 0.961805555556\n",
      "\n",
      "Trial 3\n",
      "Best parameter: {'C': 10}\n",
      "train accuracy is: 0.977405394525\n",
      "val accuracy is: 0.964078794902\n",
      "test accuracy is: 0.958333333333\n",
      "\n",
      "Average train accuracy is: 0.970258609807\n",
      "Average val accuracy is: 0.963692545384\n",
      "Average test accuracy is: 0.963348765432\n"
     ]
    }
   ],
   "source": [
    "# Partition(50/50)\n",
    "C_list     = [10**(-3), 10**(-2), 10**(-1),10,10**2,10**3,10**4,10**5]\n",
    "train_avg_log_50_4,val_avg_log_50_4,test_avg_log_50_4 = LOG(Data_4,0.5,C_list)"
   ]
  },
  {
   "cell_type": "code",
   "execution_count": 116,
   "metadata": {},
   "outputs": [
    {
     "name": "stdout",
     "output_type": "stream",
     "text": [
      "\n",
      "Trial 1\n",
      "Best parameter: {'C': 100}\n",
      "train accuracy is: 0.963793266057\n",
      "val accuracy is: 0.961622013034\n",
      "test accuracy is: 0.973988439306\n",
      "\n",
      "Trial 2\n",
      "Best parameter: {'C': 10}\n",
      "train accuracy is: 0.966327951659\n",
      "val accuracy is: 0.963794351919\n",
      "test accuracy is: 0.968208092486\n",
      "\n",
      "Trial 3\n",
      "Best parameter: {'C': 100}\n",
      "train accuracy is: 0.96958565186\n",
      "val accuracy is: 0.963794351919\n",
      "test accuracy is: 0.965317919075\n",
      "\n",
      "Average train accuracy is: 0.966568956525\n",
      "Average val accuracy is: 0.963070238957\n",
      "Average test accuracy is: 0.969171483622\n"
     ]
    }
   ],
   "source": [
    "# Partition(80/20)\n",
    "C_list     = [10**(-3), 10**(-2), 10**(-1),10,10**2,10**3,10**4,10**5]\n",
    "train_avg_log_80_4,val_avg_log_80_4,test_avg_log_80_4 = LOG(Data_4,0.8,C_list)"
   ]
  },
  {
   "cell_type": "markdown",
   "metadata": {},
   "source": [
    "Plot visual representation for Dataset 4"
   ]
  },
  {
   "cell_type": "code",
   "execution_count": 117,
   "metadata": {},
   "outputs": [
    {
     "data": {
      "image/png": "[encoded data removed]",
      "text/plain": [
       "<matplotlib.figure.Figure at 0x1a17dcf0f0>"
      ]
     },
     "metadata": {
      "image/png": {
       "height": 263,
       "width": 381
      }
     },
     "output_type": "display_data"
    }
   ],
   "source": [
    "test_svm_list_4 = [test_avg_svm_20_4,test_avg_svm_50_4,test_avg_svm_80_4]\n",
    "test_rmf_list_4 = [test_avg_rmf_20_4,test_avg_rmf_50_4,test_avg_rmf_80_4]\n",
    "test_knn_list_4 = [test_avg_knn_20_4,test_avg_knn_50_4,test_avg_knn_80_4]\n",
    "test_adb_list_4 = [test_avg_adb_20_4,test_avg_adb_50_4,test_avg_adb_80_4]\n",
    "test_log_list_4 = [test_avg_log_20_4,test_avg_log_50_4,test_avg_log_80_4]\n",
    "\n",
    "x = ['(20/80)','(50/50)','(80/20)']\n",
    "plt.plot(x,test_svm_list_4, linestyle='--', marker='o', color='b', label='SVM')\n",
    "plt.plot(x,test_rmf_list_4, linestyle='--', marker='o', color='r', label='Random Forest')\n",
    "plt.plot(x,test_knn_list_4, linestyle='--', marker='o', color='y', label='KNN')\n",
    "plt.plot(x,test_adb_list_4, linestyle='--', marker='o', color='g', label='Adaboost')\n",
    "plt.plot(x,test_log_list_4, linestyle='--', marker='o', color='c', label='Logistic Regression')\n",
    "\n",
    "plt.legend()\n",
    "plt.title('Car Evaluation - Test accuracy')\n",
    "plt.show()"
   ]
  },
  {
   "cell_type": "code",
   "execution_count": 118,
   "metadata": {},
   "outputs": [
    {
     "data": {
      "image/png": "[encoded data removed]",
      "text/plain": [
       "<matplotlib.figure.Figure at 0x1a0dc2ac50>"
      ]
     },
     "metadata": {
      "image/png": {
       "height": 263,
       "width": 388
      }
     },
     "output_type": "display_data"
    }
   ],
   "source": [
    "train_svm_list_4 = [train_avg_svm_20_4,train_avg_svm_50_4,train_avg_svm_80_4]\n",
    "train_rmf_list_4 = [train_avg_rmf_20_4,train_avg_rmf_50_4,train_avg_rmf_80_4]\n",
    "train_knn_list_4 = [train_avg_knn_20_4,train_avg_knn_50_4,train_avg_knn_80_4]\n",
    "train_adb_list_4 = [train_avg_adb_20_4,train_avg_adb_50_4,train_avg_adb_80_4]\n",
    "train_log_list_4 = [train_avg_log_20_4,train_avg_log_50_4,train_avg_log_80_4]\n",
    "\n",
    "x = ['(20/80)','(50/50)','(80/20)']\n",
    "plt.plot(x,train_svm_list_4, linestyle='--', marker='o', color='b', label='SVM')\n",
    "plt.plot(x,train_rmf_list_4, linestyle='--', marker='o', color='r', label='Random Forest')\n",
    "plt.plot(x,train_knn_list_4, linestyle='--', marker='o', color='y', label='KNN')\n",
    "plt.plot(x,train_adb_list_4, linestyle='--', marker='o', color='g', label='Adaboost')\n",
    "plt.plot(x,train_log_list_4, linestyle='--', marker='o', color='c', label='Logistic Regression')\n",
    "\n",
    "plt.legend()\n",
    "plt.title('Car Evaluation - Train accuracy')\n",
    "plt.show()"
   ]
  },
  {
   "cell_type": "code",
   "execution_count": 119,
   "metadata": {},
   "outputs": [
    {
     "data": {
      "image/png": "[encoded data removed]",
      "text/plain": [
       "<matplotlib.figure.Figure at 0x1071749b0>"
      ]
     },
     "metadata": {
      "image/png": {
       "height": 263,
       "width": 381
      }
     },
     "output_type": "display_data"
    }
   ],
   "source": [
    "val_svm_list_4 = [val_avg_svm_20_4,val_avg_svm_50_4,val_avg_svm_80_4]\n",
    "val_rmf_list_4 = [val_avg_rmf_20_4,val_avg_rmf_50_4,val_avg_rmf_80_4]\n",
    "val_knn_list_4 = [val_avg_knn_20_4,val_avg_knn_50_4,val_avg_knn_80_4]\n",
    "val_adb_list_4 = [val_avg_adb_20_4,val_avg_adb_50_4,val_avg_adb_80_4]\n",
    "val_log_list_4 = [val_avg_log_20_4,val_avg_log_50_4,val_avg_log_80_4]\n",
    "\n",
    "x = ['(20/80)','(50/50)','(80/20)']\n",
    "plt.plot(x,val_svm_list_4, linestyle='--', marker='o', color='b', label='SVM')\n",
    "plt.plot(x,val_rmf_list_4, linestyle='--', marker='o', color='r', label='Random Forest')\n",
    "plt.plot(x,val_knn_list_4, linestyle='--', marker='o', color='y', label='KNN')\n",
    "plt.plot(x,val_adb_list_4, linestyle='--', marker='o', color='g', label='Adaboost')\n",
    "plt.plot(x,val_log_list_4, linestyle='--', marker='o', color='c', label='Logistic Regression')\n",
    "\n",
    "plt.legend()\n",
    "plt.title('Car Evaluation - Val accuracy')\n",
    "plt.show()"
   ]
  },
  {
   "cell_type": "code",
   "execution_count": 14,
   "metadata": {
    "collapsed": true
   },
   "outputs": [],
   "source": [
    "test_svm_list = [0.72239,0.73041,0.7625]\n",
    "test_rmf_list = [0.75651,0.78291,0.7958333]\n",
    "test_knn_list = [0.71354,0.71875,0.753125]\n",
    "test_adb_list = [0.72369,0.74958,0.75104]\n",
    "test_log_list = [0.73723,0.74,0.773958]\n",
    "\n",
    "test_svm_list_3 = [0.99722,1,1]\n",
    "test_rmf_list_3 = [0.95555,1,1]\n",
    "test_knn_list_3 = [1,1,1]\n",
    "test_adb_list_3 = [1,1,1]\n",
    "test_log_list_3 = [1,1,1]\n",
    "\n",
    "test_svm_list_4 = [0.96382,0.99344,0.99710]\n",
    "test_rmf_list_4 = [0.97419,0.9857253,0.993256]\n",
    "test_knn_list_4 = [0.93294,0.940200,0.94315]\n",
    "test_adb_list_4 = [0.9819102,0.98611,0.99036]\n",
    "test_log_list_4 = [0.96189,0.96334,0.96917]\n",
    "\n",
    "test_svm_list_5 = [0.73333,0.746666,0.80000]\n",
    "test_rmf_list_5 = [0.69999,0.713,0.75]\n",
    "test_knn_list_5 = [0.6625,0.7066,0.7333]\n",
    "test_adb_list_5 = [0.7375,0.7600,0.7999]\n",
    "test_log_list_5 = [0.7083333,0.72000,0.75]"
   ]
  },
  {
   "cell_type": "code",
   "execution_count": null,
   "metadata": {
    "collapsed": true
   },
   "outputs": [],
   "source": [
    "# svm_col\n",
    "# test_svm_list\n",
    "# test_svm_list_3\n",
    "# test_svm_list_4\n",
    "# test_svm_list_5"
   ]
  },
  {
   "cell_type": "code",
   "execution_count": 16,
   "metadata": {},
   "outputs": [],
   "source": [
    "svm_col_20 = [test_svm_list[0],test_svm_list_3[0],test_svm_list_4[0],test_svm_list_5[0]]\n",
    "svm_col_50 = [test_svm_list[1],test_svm_list_3[1],test_svm_list_4[1],test_svm_list_5[1]]\n",
    "svm_col_80 = [test_svm_list[2],test_svm_list_3[2],test_svm_list_4[2],test_svm_list_5[2]]\n",
    "\n",
    "rmf_col_20 = [test_rmf_list[0],test_rmf_list_3[0],test_rmf_list_4[0],test_rmf_list_5[0]]\n",
    "rmf_col_50 = [test_rmf_list[1],test_rmf_list_3[1],test_rmf_list_4[1],test_rmf_list_5[1]]\n",
    "rmf_col_80 = [test_rmf_list[2],test_rmf_list_3[2],test_rmf_list_4[2],test_rmf_list_5[2]]\n",
    "\n",
    "knn_col_20 = [test_knn_list[0],test_knn_list_3[0],test_knn_list_4[0],test_knn_list_5[0]]\n",
    "knn_col_50 = [test_knn_list[1],test_knn_list_3[1],test_knn_list_4[1],test_knn_list_5[1]]\n",
    "knn_col_80 = [test_knn_list[2],test_knn_list_3[2],test_knn_list_4[2],test_knn_list_5[2]]\n",
    "\n",
    "adb_col_20 = [test_adb_list[0],test_adb_list_3[0],test_adb_list_4[0],test_adb_list_5[0]]\n",
    "adb_col_50 = [test_adb_list[1],test_adb_list_3[1],test_adb_list_4[1],test_adb_list_5[1]]\n",
    "adb_col_80 = [test_adb_list[2],test_adb_list_3[2],test_adb_list_4[2],test_adb_list_5[2]]\n",
    "\n",
    "log_col_20 = [test_log_list[0],test_log_list_3[0],test_log_list_4[0],test_log_list_5[0]]\n",
    "log_col_50 = [test_log_list[1],test_log_list_3[1],test_log_list_4[1],test_log_list_5[1]]\n",
    "log_col_80 = [test_log_list[2],test_log_list_3[2],test_log_list_4[2],test_log_list_5[2]]\n",
    "\n",
    "\n"
   ]
  },
  {
   "cell_type": "code",
   "execution_count": 32,
   "metadata": {
    "collapsed": true
   },
   "outputs": [],
   "source": [
    "import statistics\n",
    "svm_20 = statistics.mean(svm_col_20)\n",
    "svm_50 = statistics.mean(svm_col_50)\n",
    "svm_80 = statistics.mean(svm_col_80)\n",
    "\n",
    "rmf_20 = statistics.mean(rmf_col_20)\n",
    "rmf_50 = statistics.mean(rmf_col_50)\n",
    "rmf_80 = statistics.mean(rmf_col_80)\n",
    "\n",
    "knn_20 = statistics.mean(knn_col_20)\n",
    "knn_50 = statistics.mean(knn_col_50)\n",
    "knn_80 = statistics.mean(knn_col_80)\n",
    "\n",
    "adb_20 = statistics.mean(adb_col_20)\n",
    "adb_50 = statistics.mean(adb_col_50)\n",
    "adb_80 = statistics.mean(adb_col_80)\n",
    "\n",
    "log_20 = statistics.mean(log_col_20)\n",
    "log_50 = statistics.mean(log_col_50)\n",
    "log_80 = statistics.mean(log_col_80)\n",
    "\n",
    "\n",
    "p28 = [svm_20,rmf_20,knn_20,adb_20,log_20]\n",
    "p55 = [svm_50,rmf_50,knn_50,adb_50,log_50]\n",
    "p82 = [svm_80,rmf_80,knn_80,adb_80,log_80]\n",
    "\n",
    "l1 = [svm_20,svm_50,svm_80]\n",
    "l2 = [rmf_20,rmf_50,rmf_80]\n",
    "l3 = [knn_20,knn_50,knn_80]\n",
    "l4 = [adb_20,adb_50,adb_80]\n",
    "l5 = [log_20,log_50,log_80]"
   ]
  },
  {
   "cell_type": "code",
   "execution_count": 28,
   "metadata": {
    "collapsed": true
   },
   "outputs": [],
   "source": [
    "clf = ['SVM','RMF','KNN','ADB','LOG']\n",
    "D = { '20/80':p28, '50/50':p55, '80/20':p82}"
   ]
  },
  {
   "cell_type": "code",
   "execution_count": 30,
   "metadata": {},
   "outputs": [
    {
     "data": {
      "text/html": [
       "<div>\n",
       "<style>\n",
       "    .dataframe thead tr:only-child th {\n",
       "        text-align: right;\n",
       "    }\n",
       "\n",
       "    .dataframe thead th {\n",
       "        text-align: left;\n",
       "    }\n",
       "\n",
       "    .dataframe tbody tr th {\n",
       "        vertical-align: top;\n",
       "    }\n",
       "</style>\n",
       "<table border=\"1\" class=\"dataframe\">\n",
       "  <thead>\n",
       "    <tr style=\"text-align: right;\">\n",
       "      <th></th>\n",
       "      <th>Classifier</th>\n",
       "      <th>20/80</th>\n",
       "      <th>50/50</th>\n",
       "      <th>80/20</th>\n",
       "    </tr>\n",
       "  </thead>\n",
       "  <tbody>\n",
       "    <tr>\n",
       "      <th>0</th>\n",
       "      <td>SVM</td>\n",
       "      <td>0.854190</td>\n",
       "      <td>0.867629</td>\n",
       "      <td>0.889900</td>\n",
       "    </tr>\n",
       "    <tr>\n",
       "      <th>1</th>\n",
       "      <td>RMF</td>\n",
       "      <td>0.846560</td>\n",
       "      <td>0.870409</td>\n",
       "      <td>0.884772</td>\n",
       "    </tr>\n",
       "    <tr>\n",
       "      <th>2</th>\n",
       "      <td>KNN</td>\n",
       "      <td>0.827245</td>\n",
       "      <td>0.841387</td>\n",
       "      <td>0.857394</td>\n",
       "    </tr>\n",
       "    <tr>\n",
       "      <th>3</th>\n",
       "      <td>ADB</td>\n",
       "      <td>0.860775</td>\n",
       "      <td>0.873923</td>\n",
       "      <td>0.885325</td>\n",
       "    </tr>\n",
       "    <tr>\n",
       "      <th>4</th>\n",
       "      <td>LOG</td>\n",
       "      <td>0.851863</td>\n",
       "      <td>0.855835</td>\n",
       "      <td>0.873282</td>\n",
       "    </tr>\n",
       "  </tbody>\n",
       "</table>\n",
       "</div>"
      ],
      "text/plain": [
       "  Classifier     20/80     50/50     80/20\n",
       "0        SVM  0.854190  0.867629  0.889900\n",
       "1        RMF  0.846560  0.870409  0.884772\n",
       "2        KNN  0.827245  0.841387  0.857394\n",
       "3        ADB  0.860775  0.873923  0.885325\n",
       "4        LOG  0.851863  0.855835  0.873282"
      ]
     },
     "execution_count": 30,
     "metadata": {},
     "output_type": "execute_result"
    }
   ],
   "source": [
    "compare = pd.DataFrame(D)\n",
    "compare.insert(0,'Classifier',clf)\n",
    "compare"
   ]
  },
  {
   "cell_type": "code",
   "execution_count": null,
   "metadata": {
    "collapsed": true
   },
   "outputs": [],
   "source": []
  },
  {
   "cell_type": "code",
   "execution_count": 33,
   "metadata": {},
   "outputs": [
    {
     "data": {
      "image/png": "[encoded data removed]",
      "text/plain": [
       "<matplotlib.figure.Figure at 0x107a6c908>"
      ]
     },
     "metadata": {
      "image/png": {
       "height": 263,
       "width": 381
      }
     },
     "output_type": "display_data"
    }
   ],
   "source": [
    "x = ['(20/80)','(50/50)','(80/20)']\n",
    "plt.plot(x,l1, linestyle='--', marker='o', color='b', label='SVM')\n",
    "plt.plot(x,l2, linestyle='--', marker='o', color='r', label='Random Forest')\n",
    "plt.plot(x,l3, linestyle='--', marker='o', color='y', label='KNN')\n",
    "plt.plot(x,l4, linestyle='--', marker='o', color='g', label='Adaboost')\n",
    "plt.plot(x,l5, linestyle='--', marker='o', color='c', label='Logistic Regression')\n",
    "\n",
    "plt.legend()\n",
    "plt.title('Average Test Accuracy Across Data Sets')\n",
    "plt.show()"
   ]
  },
  {
   "cell_type": "code",
   "execution_count": null,
   "metadata": {
    "collapsed": true
   },
   "outputs": [],
   "source": []
  }
 ],
 "metadata": {
  "kernelspec": {
   "display_name": "Python 3",
   "language": "python",
   "name": "python3"
  },
  "language_info": {
   "codemirror_mode": {
    "name": "ipython",
    "version": 3
   },
   "file_extension": ".py",
   "mimetype": "text/x-python",
   "name": "python",
   "nbconvert_exporter": "python",
   "pygments_lexer": "ipython3",
   "version": "3.6.3"
  }
 },
 "nbformat": 4,
 "nbformat_minor": 2
}
